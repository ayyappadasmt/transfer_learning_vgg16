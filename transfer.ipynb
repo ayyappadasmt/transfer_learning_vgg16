{
  "nbformat": 4,
  "nbformat_minor": 0,
  "metadata": {
    "colab": {
      "provenance": []
    },
    "kernelspec": {
      "name": "python3",
      "display_name": "Python 3"
    },
    "language_info": {
      "name": "python"
    },
    "widgets": {
      "application/vnd.jupyter.widget-state+json": {
        "d4b3bccc9080483cab1d1f2fd6883e89": {
          "model_module": "@jupyter-widgets/controls",
          "model_name": "HBoxModel",
          "model_module_version": "1.5.0",
          "state": {
            "_dom_classes": [],
            "_model_module": "@jupyter-widgets/controls",
            "_model_module_version": "1.5.0",
            "_model_name": "HBoxModel",
            "_view_count": null,
            "_view_module": "@jupyter-widgets/controls",
            "_view_module_version": "1.5.0",
            "_view_name": "HBoxView",
            "box_style": "",
            "children": [
              "IPY_MODEL_c605f563f215400d86b146de702e5df4",
              "IPY_MODEL_b07c2f72532f4bd8812594144b7612a6",
              "IPY_MODEL_bbe844e5f19245d784a2af48a3f2b77b"
            ],
            "layout": "IPY_MODEL_d398fbd502c64b9ab0ea9537b940688f"
          }
        },
        "c605f563f215400d86b146de702e5df4": {
          "model_module": "@jupyter-widgets/controls",
          "model_name": "HTMLModel",
          "model_module_version": "1.5.0",
          "state": {
            "_dom_classes": [],
            "_model_module": "@jupyter-widgets/controls",
            "_model_module_version": "1.5.0",
            "_model_name": "HTMLModel",
            "_view_count": null,
            "_view_module": "@jupyter-widgets/controls",
            "_view_module_version": "1.5.0",
            "_view_name": "HTMLView",
            "description": "",
            "description_tooltip": null,
            "layout": "IPY_MODEL_4e0f648df09d49288c47d41ec59b476a",
            "placeholder": "​",
            "style": "IPY_MODEL_2ae3ee7b3f624cc78acba366651ce3e9",
            "value": "100%"
          }
        },
        "b07c2f72532f4bd8812594144b7612a6": {
          "model_module": "@jupyter-widgets/controls",
          "model_name": "FloatProgressModel",
          "model_module_version": "1.5.0",
          "state": {
            "_dom_classes": [],
            "_model_module": "@jupyter-widgets/controls",
            "_model_module_version": "1.5.0",
            "_model_name": "FloatProgressModel",
            "_view_count": null,
            "_view_module": "@jupyter-widgets/controls",
            "_view_module_version": "1.5.0",
            "_view_name": "ProgressView",
            "bar_style": "success",
            "description": "",
            "description_tooltip": null,
            "layout": "IPY_MODEL_b3885c6ed0f74a919f350d9ead5212bd",
            "max": 826,
            "min": 0,
            "orientation": "horizontal",
            "style": "IPY_MODEL_e643c59b98034524ab4c0492b71a5e7a",
            "value": 826
          }
        },
        "bbe844e5f19245d784a2af48a3f2b77b": {
          "model_module": "@jupyter-widgets/controls",
          "model_name": "HTMLModel",
          "model_module_version": "1.5.0",
          "state": {
            "_dom_classes": [],
            "_model_module": "@jupyter-widgets/controls",
            "_model_module_version": "1.5.0",
            "_model_name": "HTMLModel",
            "_view_count": null,
            "_view_module": "@jupyter-widgets/controls",
            "_view_module_version": "1.5.0",
            "_view_name": "HTMLView",
            "description": "",
            "description_tooltip": null,
            "layout": "IPY_MODEL_f12cc92b7ccf469faebe09c89ed849ed",
            "placeholder": "​",
            "style": "IPY_MODEL_f3ad51a813a64a7fa532f75abd4ec8f4",
            "value": " 826/826 [00:01&lt;00:00, 531.09it/s]"
          }
        },
        "d398fbd502c64b9ab0ea9537b940688f": {
          "model_module": "@jupyter-widgets/base",
          "model_name": "LayoutModel",
          "model_module_version": "1.2.0",
          "state": {
            "_model_module": "@jupyter-widgets/base",
            "_model_module_version": "1.2.0",
            "_model_name": "LayoutModel",
            "_view_count": null,
            "_view_module": "@jupyter-widgets/base",
            "_view_module_version": "1.2.0",
            "_view_name": "LayoutView",
            "align_content": null,
            "align_items": null,
            "align_self": null,
            "border": null,
            "bottom": null,
            "display": null,
            "flex": null,
            "flex_flow": null,
            "grid_area": null,
            "grid_auto_columns": null,
            "grid_auto_flow": null,
            "grid_auto_rows": null,
            "grid_column": null,
            "grid_gap": null,
            "grid_row": null,
            "grid_template_areas": null,
            "grid_template_columns": null,
            "grid_template_rows": null,
            "height": null,
            "justify_content": null,
            "justify_items": null,
            "left": null,
            "margin": null,
            "max_height": null,
            "max_width": null,
            "min_height": null,
            "min_width": null,
            "object_fit": null,
            "object_position": null,
            "order": null,
            "overflow": null,
            "overflow_x": null,
            "overflow_y": null,
            "padding": null,
            "right": null,
            "top": null,
            "visibility": null,
            "width": null
          }
        },
        "4e0f648df09d49288c47d41ec59b476a": {
          "model_module": "@jupyter-widgets/base",
          "model_name": "LayoutModel",
          "model_module_version": "1.2.0",
          "state": {
            "_model_module": "@jupyter-widgets/base",
            "_model_module_version": "1.2.0",
            "_model_name": "LayoutModel",
            "_view_count": null,
            "_view_module": "@jupyter-widgets/base",
            "_view_module_version": "1.2.0",
            "_view_name": "LayoutView",
            "align_content": null,
            "align_items": null,
            "align_self": null,
            "border": null,
            "bottom": null,
            "display": null,
            "flex": null,
            "flex_flow": null,
            "grid_area": null,
            "grid_auto_columns": null,
            "grid_auto_flow": null,
            "grid_auto_rows": null,
            "grid_column": null,
            "grid_gap": null,
            "grid_row": null,
            "grid_template_areas": null,
            "grid_template_columns": null,
            "grid_template_rows": null,
            "height": null,
            "justify_content": null,
            "justify_items": null,
            "left": null,
            "margin": null,
            "max_height": null,
            "max_width": null,
            "min_height": null,
            "min_width": null,
            "object_fit": null,
            "object_position": null,
            "order": null,
            "overflow": null,
            "overflow_x": null,
            "overflow_y": null,
            "padding": null,
            "right": null,
            "top": null,
            "visibility": null,
            "width": null
          }
        },
        "2ae3ee7b3f624cc78acba366651ce3e9": {
          "model_module": "@jupyter-widgets/controls",
          "model_name": "DescriptionStyleModel",
          "model_module_version": "1.5.0",
          "state": {
            "_model_module": "@jupyter-widgets/controls",
            "_model_module_version": "1.5.0",
            "_model_name": "DescriptionStyleModel",
            "_view_count": null,
            "_view_module": "@jupyter-widgets/base",
            "_view_module_version": "1.2.0",
            "_view_name": "StyleView",
            "description_width": ""
          }
        },
        "b3885c6ed0f74a919f350d9ead5212bd": {
          "model_module": "@jupyter-widgets/base",
          "model_name": "LayoutModel",
          "model_module_version": "1.2.0",
          "state": {
            "_model_module": "@jupyter-widgets/base",
            "_model_module_version": "1.2.0",
            "_model_name": "LayoutModel",
            "_view_count": null,
            "_view_module": "@jupyter-widgets/base",
            "_view_module_version": "1.2.0",
            "_view_name": "LayoutView",
            "align_content": null,
            "align_items": null,
            "align_self": null,
            "border": null,
            "bottom": null,
            "display": null,
            "flex": null,
            "flex_flow": null,
            "grid_area": null,
            "grid_auto_columns": null,
            "grid_auto_flow": null,
            "grid_auto_rows": null,
            "grid_column": null,
            "grid_gap": null,
            "grid_row": null,
            "grid_template_areas": null,
            "grid_template_columns": null,
            "grid_template_rows": null,
            "height": null,
            "justify_content": null,
            "justify_items": null,
            "left": null,
            "margin": null,
            "max_height": null,
            "max_width": null,
            "min_height": null,
            "min_width": null,
            "object_fit": null,
            "object_position": null,
            "order": null,
            "overflow": null,
            "overflow_x": null,
            "overflow_y": null,
            "padding": null,
            "right": null,
            "top": null,
            "visibility": null,
            "width": null
          }
        },
        "e643c59b98034524ab4c0492b71a5e7a": {
          "model_module": "@jupyter-widgets/controls",
          "model_name": "ProgressStyleModel",
          "model_module_version": "1.5.0",
          "state": {
            "_model_module": "@jupyter-widgets/controls",
            "_model_module_version": "1.5.0",
            "_model_name": "ProgressStyleModel",
            "_view_count": null,
            "_view_module": "@jupyter-widgets/base",
            "_view_module_version": "1.2.0",
            "_view_name": "StyleView",
            "bar_color": null,
            "description_width": ""
          }
        },
        "f12cc92b7ccf469faebe09c89ed849ed": {
          "model_module": "@jupyter-widgets/base",
          "model_name": "LayoutModel",
          "model_module_version": "1.2.0",
          "state": {
            "_model_module": "@jupyter-widgets/base",
            "_model_module_version": "1.2.0",
            "_model_name": "LayoutModel",
            "_view_count": null,
            "_view_module": "@jupyter-widgets/base",
            "_view_module_version": "1.2.0",
            "_view_name": "LayoutView",
            "align_content": null,
            "align_items": null,
            "align_self": null,
            "border": null,
            "bottom": null,
            "display": null,
            "flex": null,
            "flex_flow": null,
            "grid_area": null,
            "grid_auto_columns": null,
            "grid_auto_flow": null,
            "grid_auto_rows": null,
            "grid_column": null,
            "grid_gap": null,
            "grid_row": null,
            "grid_template_areas": null,
            "grid_template_columns": null,
            "grid_template_rows": null,
            "height": null,
            "justify_content": null,
            "justify_items": null,
            "left": null,
            "margin": null,
            "max_height": null,
            "max_width": null,
            "min_height": null,
            "min_width": null,
            "object_fit": null,
            "object_position": null,
            "order": null,
            "overflow": null,
            "overflow_x": null,
            "overflow_y": null,
            "padding": null,
            "right": null,
            "top": null,
            "visibility": null,
            "width": null
          }
        },
        "f3ad51a813a64a7fa532f75abd4ec8f4": {
          "model_module": "@jupyter-widgets/controls",
          "model_name": "DescriptionStyleModel",
          "model_module_version": "1.5.0",
          "state": {
            "_model_module": "@jupyter-widgets/controls",
            "_model_module_version": "1.5.0",
            "_model_name": "DescriptionStyleModel",
            "_view_count": null,
            "_view_module": "@jupyter-widgets/base",
            "_view_module_version": "1.2.0",
            "_view_name": "StyleView",
            "description_width": ""
          }
        },
        "4d97e5c048574397992db0f31b60520c": {
          "model_module": "@jupyter-widgets/controls",
          "model_name": "HBoxModel",
          "model_module_version": "1.5.0",
          "state": {
            "_dom_classes": [],
            "_model_module": "@jupyter-widgets/controls",
            "_model_module_version": "1.5.0",
            "_model_name": "HBoxModel",
            "_view_count": null,
            "_view_module": "@jupyter-widgets/controls",
            "_view_module_version": "1.5.0",
            "_view_name": "HBoxView",
            "box_style": "",
            "children": [
              "IPY_MODEL_86a106ecd2cc464aa0c1ae71a78e35fe",
              "IPY_MODEL_93fce241013845f28b423b46b6837c32",
              "IPY_MODEL_bed2b0a319b94608b8134c8892b59594"
            ],
            "layout": "IPY_MODEL_d1becc792da5485d84f74e9e4616b51c"
          }
        },
        "86a106ecd2cc464aa0c1ae71a78e35fe": {
          "model_module": "@jupyter-widgets/controls",
          "model_name": "HTMLModel",
          "model_module_version": "1.5.0",
          "state": {
            "_dom_classes": [],
            "_model_module": "@jupyter-widgets/controls",
            "_model_module_version": "1.5.0",
            "_model_name": "HTMLModel",
            "_view_count": null,
            "_view_module": "@jupyter-widgets/controls",
            "_view_module_version": "1.5.0",
            "_view_name": "HTMLView",
            "description": "",
            "description_tooltip": null,
            "layout": "IPY_MODEL_dd69601a357f4cc2b7c990939815aa27",
            "placeholder": "​",
            "style": "IPY_MODEL_db973a4179a34e9ba0ce0f96498249a1",
            "value": "100%"
          }
        },
        "93fce241013845f28b423b46b6837c32": {
          "model_module": "@jupyter-widgets/controls",
          "model_name": "FloatProgressModel",
          "model_module_version": "1.5.0",
          "state": {
            "_dom_classes": [],
            "_model_module": "@jupyter-widgets/controls",
            "_model_module_version": "1.5.0",
            "_model_name": "FloatProgressModel",
            "_view_count": null,
            "_view_module": "@jupyter-widgets/controls",
            "_view_module_version": "1.5.0",
            "_view_name": "ProgressView",
            "bar_style": "success",
            "description": "",
            "description_tooltip": null,
            "layout": "IPY_MODEL_cd2a9254e2c54418a310b79e6fb87869",
            "max": 822,
            "min": 0,
            "orientation": "horizontal",
            "style": "IPY_MODEL_34801612420a4396aed907d86eaff8cc",
            "value": 822
          }
        },
        "bed2b0a319b94608b8134c8892b59594": {
          "model_module": "@jupyter-widgets/controls",
          "model_name": "HTMLModel",
          "model_module_version": "1.5.0",
          "state": {
            "_dom_classes": [],
            "_model_module": "@jupyter-widgets/controls",
            "_model_module_version": "1.5.0",
            "_model_name": "HTMLModel",
            "_view_count": null,
            "_view_module": "@jupyter-widgets/controls",
            "_view_module_version": "1.5.0",
            "_view_name": "HTMLView",
            "description": "",
            "description_tooltip": null,
            "layout": "IPY_MODEL_0e23a217a9e34ed6b078c586e451f71d",
            "placeholder": "​",
            "style": "IPY_MODEL_378582e42b754ced9cc1c19a5f840141",
            "value": " 822/822 [00:01&lt;00:00, 564.15it/s]"
          }
        },
        "d1becc792da5485d84f74e9e4616b51c": {
          "model_module": "@jupyter-widgets/base",
          "model_name": "LayoutModel",
          "model_module_version": "1.2.0",
          "state": {
            "_model_module": "@jupyter-widgets/base",
            "_model_module_version": "1.2.0",
            "_model_name": "LayoutModel",
            "_view_count": null,
            "_view_module": "@jupyter-widgets/base",
            "_view_module_version": "1.2.0",
            "_view_name": "LayoutView",
            "align_content": null,
            "align_items": null,
            "align_self": null,
            "border": null,
            "bottom": null,
            "display": null,
            "flex": null,
            "flex_flow": null,
            "grid_area": null,
            "grid_auto_columns": null,
            "grid_auto_flow": null,
            "grid_auto_rows": null,
            "grid_column": null,
            "grid_gap": null,
            "grid_row": null,
            "grid_template_areas": null,
            "grid_template_columns": null,
            "grid_template_rows": null,
            "height": null,
            "justify_content": null,
            "justify_items": null,
            "left": null,
            "margin": null,
            "max_height": null,
            "max_width": null,
            "min_height": null,
            "min_width": null,
            "object_fit": null,
            "object_position": null,
            "order": null,
            "overflow": null,
            "overflow_x": null,
            "overflow_y": null,
            "padding": null,
            "right": null,
            "top": null,
            "visibility": null,
            "width": null
          }
        },
        "dd69601a357f4cc2b7c990939815aa27": {
          "model_module": "@jupyter-widgets/base",
          "model_name": "LayoutModel",
          "model_module_version": "1.2.0",
          "state": {
            "_model_module": "@jupyter-widgets/base",
            "_model_module_version": "1.2.0",
            "_model_name": "LayoutModel",
            "_view_count": null,
            "_view_module": "@jupyter-widgets/base",
            "_view_module_version": "1.2.0",
            "_view_name": "LayoutView",
            "align_content": null,
            "align_items": null,
            "align_self": null,
            "border": null,
            "bottom": null,
            "display": null,
            "flex": null,
            "flex_flow": null,
            "grid_area": null,
            "grid_auto_columns": null,
            "grid_auto_flow": null,
            "grid_auto_rows": null,
            "grid_column": null,
            "grid_gap": null,
            "grid_row": null,
            "grid_template_areas": null,
            "grid_template_columns": null,
            "grid_template_rows": null,
            "height": null,
            "justify_content": null,
            "justify_items": null,
            "left": null,
            "margin": null,
            "max_height": null,
            "max_width": null,
            "min_height": null,
            "min_width": null,
            "object_fit": null,
            "object_position": null,
            "order": null,
            "overflow": null,
            "overflow_x": null,
            "overflow_y": null,
            "padding": null,
            "right": null,
            "top": null,
            "visibility": null,
            "width": null
          }
        },
        "db973a4179a34e9ba0ce0f96498249a1": {
          "model_module": "@jupyter-widgets/controls",
          "model_name": "DescriptionStyleModel",
          "model_module_version": "1.5.0",
          "state": {
            "_model_module": "@jupyter-widgets/controls",
            "_model_module_version": "1.5.0",
            "_model_name": "DescriptionStyleModel",
            "_view_count": null,
            "_view_module": "@jupyter-widgets/base",
            "_view_module_version": "1.2.0",
            "_view_name": "StyleView",
            "description_width": ""
          }
        },
        "cd2a9254e2c54418a310b79e6fb87869": {
          "model_module": "@jupyter-widgets/base",
          "model_name": "LayoutModel",
          "model_module_version": "1.2.0",
          "state": {
            "_model_module": "@jupyter-widgets/base",
            "_model_module_version": "1.2.0",
            "_model_name": "LayoutModel",
            "_view_count": null,
            "_view_module": "@jupyter-widgets/base",
            "_view_module_version": "1.2.0",
            "_view_name": "LayoutView",
            "align_content": null,
            "align_items": null,
            "align_self": null,
            "border": null,
            "bottom": null,
            "display": null,
            "flex": null,
            "flex_flow": null,
            "grid_area": null,
            "grid_auto_columns": null,
            "grid_auto_flow": null,
            "grid_auto_rows": null,
            "grid_column": null,
            "grid_gap": null,
            "grid_row": null,
            "grid_template_areas": null,
            "grid_template_columns": null,
            "grid_template_rows": null,
            "height": null,
            "justify_content": null,
            "justify_items": null,
            "left": null,
            "margin": null,
            "max_height": null,
            "max_width": null,
            "min_height": null,
            "min_width": null,
            "object_fit": null,
            "object_position": null,
            "order": null,
            "overflow": null,
            "overflow_x": null,
            "overflow_y": null,
            "padding": null,
            "right": null,
            "top": null,
            "visibility": null,
            "width": null
          }
        },
        "34801612420a4396aed907d86eaff8cc": {
          "model_module": "@jupyter-widgets/controls",
          "model_name": "ProgressStyleModel",
          "model_module_version": "1.5.0",
          "state": {
            "_model_module": "@jupyter-widgets/controls",
            "_model_module_version": "1.5.0",
            "_model_name": "ProgressStyleModel",
            "_view_count": null,
            "_view_module": "@jupyter-widgets/base",
            "_view_module_version": "1.2.0",
            "_view_name": "StyleView",
            "bar_color": null,
            "description_width": ""
          }
        },
        "0e23a217a9e34ed6b078c586e451f71d": {
          "model_module": "@jupyter-widgets/base",
          "model_name": "LayoutModel",
          "model_module_version": "1.2.0",
          "state": {
            "_model_module": "@jupyter-widgets/base",
            "_model_module_version": "1.2.0",
            "_model_name": "LayoutModel",
            "_view_count": null,
            "_view_module": "@jupyter-widgets/base",
            "_view_module_version": "1.2.0",
            "_view_name": "LayoutView",
            "align_content": null,
            "align_items": null,
            "align_self": null,
            "border": null,
            "bottom": null,
            "display": null,
            "flex": null,
            "flex_flow": null,
            "grid_area": null,
            "grid_auto_columns": null,
            "grid_auto_flow": null,
            "grid_auto_rows": null,
            "grid_column": null,
            "grid_gap": null,
            "grid_row": null,
            "grid_template_areas": null,
            "grid_template_columns": null,
            "grid_template_rows": null,
            "height": null,
            "justify_content": null,
            "justify_items": null,
            "left": null,
            "margin": null,
            "max_height": null,
            "max_width": null,
            "min_height": null,
            "min_width": null,
            "object_fit": null,
            "object_position": null,
            "order": null,
            "overflow": null,
            "overflow_x": null,
            "overflow_y": null,
            "padding": null,
            "right": null,
            "top": null,
            "visibility": null,
            "width": null
          }
        },
        "378582e42b754ced9cc1c19a5f840141": {
          "model_module": "@jupyter-widgets/controls",
          "model_name": "DescriptionStyleModel",
          "model_module_version": "1.5.0",
          "state": {
            "_model_module": "@jupyter-widgets/controls",
            "_model_module_version": "1.5.0",
            "_model_name": "DescriptionStyleModel",
            "_view_count": null,
            "_view_module": "@jupyter-widgets/base",
            "_view_module_version": "1.2.0",
            "_view_name": "StyleView",
            "description_width": ""
          }
        },
        "ecc433f592a947f399257d7b2132ae68": {
          "model_module": "@jupyter-widgets/controls",
          "model_name": "HBoxModel",
          "model_module_version": "1.5.0",
          "state": {
            "_dom_classes": [],
            "_model_module": "@jupyter-widgets/controls",
            "_model_module_version": "1.5.0",
            "_model_name": "HBoxModel",
            "_view_count": null,
            "_view_module": "@jupyter-widgets/controls",
            "_view_module_version": "1.5.0",
            "_view_name": "HBoxView",
            "box_style": "",
            "children": [
              "IPY_MODEL_421131afcf234673be581235e9eec63d",
              "IPY_MODEL_8ce70e42b40e43b48db80ae01cca6d91",
              "IPY_MODEL_3b0fbbbacef24e669e7bfd6299fbca55"
            ],
            "layout": "IPY_MODEL_922fd6ca94f94cd2be28e6f8a03aa851"
          }
        },
        "421131afcf234673be581235e9eec63d": {
          "model_module": "@jupyter-widgets/controls",
          "model_name": "HTMLModel",
          "model_module_version": "1.5.0",
          "state": {
            "_dom_classes": [],
            "_model_module": "@jupyter-widgets/controls",
            "_model_module_version": "1.5.0",
            "_model_name": "HTMLModel",
            "_view_count": null,
            "_view_module": "@jupyter-widgets/controls",
            "_view_module_version": "1.5.0",
            "_view_name": "HTMLView",
            "description": "",
            "description_tooltip": null,
            "layout": "IPY_MODEL_d52d3942e9104f9c93febd3b2f56b6aa",
            "placeholder": "​",
            "style": "IPY_MODEL_be8e1346ee274c00a9bee96a059948f1",
            "value": "100%"
          }
        },
        "8ce70e42b40e43b48db80ae01cca6d91": {
          "model_module": "@jupyter-widgets/controls",
          "model_name": "FloatProgressModel",
          "model_module_version": "1.5.0",
          "state": {
            "_dom_classes": [],
            "_model_module": "@jupyter-widgets/controls",
            "_model_module_version": "1.5.0",
            "_model_name": "FloatProgressModel",
            "_view_count": null,
            "_view_module": "@jupyter-widgets/controls",
            "_view_module_version": "1.5.0",
            "_view_name": "ProgressView",
            "bar_style": "success",
            "description": "",
            "description_tooltip": null,
            "layout": "IPY_MODEL_1ef00ce1040c4176997042ac157e2ea0",
            "max": 395,
            "min": 0,
            "orientation": "horizontal",
            "style": "IPY_MODEL_5af2f2dd670648329b472f037291a026",
            "value": 395
          }
        },
        "3b0fbbbacef24e669e7bfd6299fbca55": {
          "model_module": "@jupyter-widgets/controls",
          "model_name": "HTMLModel",
          "model_module_version": "1.5.0",
          "state": {
            "_dom_classes": [],
            "_model_module": "@jupyter-widgets/controls",
            "_model_module_version": "1.5.0",
            "_model_name": "HTMLModel",
            "_view_count": null,
            "_view_module": "@jupyter-widgets/controls",
            "_view_module_version": "1.5.0",
            "_view_name": "HTMLView",
            "description": "",
            "description_tooltip": null,
            "layout": "IPY_MODEL_aa1c1d5a9e9a41b79560c01de35b9250",
            "placeholder": "​",
            "style": "IPY_MODEL_3e585ac753aa4cf49064c56922b69ba2",
            "value": " 395/395 [00:00&lt;00:00, 569.58it/s]"
          }
        },
        "922fd6ca94f94cd2be28e6f8a03aa851": {
          "model_module": "@jupyter-widgets/base",
          "model_name": "LayoutModel",
          "model_module_version": "1.2.0",
          "state": {
            "_model_module": "@jupyter-widgets/base",
            "_model_module_version": "1.2.0",
            "_model_name": "LayoutModel",
            "_view_count": null,
            "_view_module": "@jupyter-widgets/base",
            "_view_module_version": "1.2.0",
            "_view_name": "LayoutView",
            "align_content": null,
            "align_items": null,
            "align_self": null,
            "border": null,
            "bottom": null,
            "display": null,
            "flex": null,
            "flex_flow": null,
            "grid_area": null,
            "grid_auto_columns": null,
            "grid_auto_flow": null,
            "grid_auto_rows": null,
            "grid_column": null,
            "grid_gap": null,
            "grid_row": null,
            "grid_template_areas": null,
            "grid_template_columns": null,
            "grid_template_rows": null,
            "height": null,
            "justify_content": null,
            "justify_items": null,
            "left": null,
            "margin": null,
            "max_height": null,
            "max_width": null,
            "min_height": null,
            "min_width": null,
            "object_fit": null,
            "object_position": null,
            "order": null,
            "overflow": null,
            "overflow_x": null,
            "overflow_y": null,
            "padding": null,
            "right": null,
            "top": null,
            "visibility": null,
            "width": null
          }
        },
        "d52d3942e9104f9c93febd3b2f56b6aa": {
          "model_module": "@jupyter-widgets/base",
          "model_name": "LayoutModel",
          "model_module_version": "1.2.0",
          "state": {
            "_model_module": "@jupyter-widgets/base",
            "_model_module_version": "1.2.0",
            "_model_name": "LayoutModel",
            "_view_count": null,
            "_view_module": "@jupyter-widgets/base",
            "_view_module_version": "1.2.0",
            "_view_name": "LayoutView",
            "align_content": null,
            "align_items": null,
            "align_self": null,
            "border": null,
            "bottom": null,
            "display": null,
            "flex": null,
            "flex_flow": null,
            "grid_area": null,
            "grid_auto_columns": null,
            "grid_auto_flow": null,
            "grid_auto_rows": null,
            "grid_column": null,
            "grid_gap": null,
            "grid_row": null,
            "grid_template_areas": null,
            "grid_template_columns": null,
            "grid_template_rows": null,
            "height": null,
            "justify_content": null,
            "justify_items": null,
            "left": null,
            "margin": null,
            "max_height": null,
            "max_width": null,
            "min_height": null,
            "min_width": null,
            "object_fit": null,
            "object_position": null,
            "order": null,
            "overflow": null,
            "overflow_x": null,
            "overflow_y": null,
            "padding": null,
            "right": null,
            "top": null,
            "visibility": null,
            "width": null
          }
        },
        "be8e1346ee274c00a9bee96a059948f1": {
          "model_module": "@jupyter-widgets/controls",
          "model_name": "DescriptionStyleModel",
          "model_module_version": "1.5.0",
          "state": {
            "_model_module": "@jupyter-widgets/controls",
            "_model_module_version": "1.5.0",
            "_model_name": "DescriptionStyleModel",
            "_view_count": null,
            "_view_module": "@jupyter-widgets/base",
            "_view_module_version": "1.2.0",
            "_view_name": "StyleView",
            "description_width": ""
          }
        },
        "1ef00ce1040c4176997042ac157e2ea0": {
          "model_module": "@jupyter-widgets/base",
          "model_name": "LayoutModel",
          "model_module_version": "1.2.0",
          "state": {
            "_model_module": "@jupyter-widgets/base",
            "_model_module_version": "1.2.0",
            "_model_name": "LayoutModel",
            "_view_count": null,
            "_view_module": "@jupyter-widgets/base",
            "_view_module_version": "1.2.0",
            "_view_name": "LayoutView",
            "align_content": null,
            "align_items": null,
            "align_self": null,
            "border": null,
            "bottom": null,
            "display": null,
            "flex": null,
            "flex_flow": null,
            "grid_area": null,
            "grid_auto_columns": null,
            "grid_auto_flow": null,
            "grid_auto_rows": null,
            "grid_column": null,
            "grid_gap": null,
            "grid_row": null,
            "grid_template_areas": null,
            "grid_template_columns": null,
            "grid_template_rows": null,
            "height": null,
            "justify_content": null,
            "justify_items": null,
            "left": null,
            "margin": null,
            "max_height": null,
            "max_width": null,
            "min_height": null,
            "min_width": null,
            "object_fit": null,
            "object_position": null,
            "order": null,
            "overflow": null,
            "overflow_x": null,
            "overflow_y": null,
            "padding": null,
            "right": null,
            "top": null,
            "visibility": null,
            "width": null
          }
        },
        "5af2f2dd670648329b472f037291a026": {
          "model_module": "@jupyter-widgets/controls",
          "model_name": "ProgressStyleModel",
          "model_module_version": "1.5.0",
          "state": {
            "_model_module": "@jupyter-widgets/controls",
            "_model_module_version": "1.5.0",
            "_model_name": "ProgressStyleModel",
            "_view_count": null,
            "_view_module": "@jupyter-widgets/base",
            "_view_module_version": "1.2.0",
            "_view_name": "StyleView",
            "bar_color": null,
            "description_width": ""
          }
        },
        "aa1c1d5a9e9a41b79560c01de35b9250": {
          "model_module": "@jupyter-widgets/base",
          "model_name": "LayoutModel",
          "model_module_version": "1.2.0",
          "state": {
            "_model_module": "@jupyter-widgets/base",
            "_model_module_version": "1.2.0",
            "_model_name": "LayoutModel",
            "_view_count": null,
            "_view_module": "@jupyter-widgets/base",
            "_view_module_version": "1.2.0",
            "_view_name": "LayoutView",
            "align_content": null,
            "align_items": null,
            "align_self": null,
            "border": null,
            "bottom": null,
            "display": null,
            "flex": null,
            "flex_flow": null,
            "grid_area": null,
            "grid_auto_columns": null,
            "grid_auto_flow": null,
            "grid_auto_rows": null,
            "grid_column": null,
            "grid_gap": null,
            "grid_row": null,
            "grid_template_areas": null,
            "grid_template_columns": null,
            "grid_template_rows": null,
            "height": null,
            "justify_content": null,
            "justify_items": null,
            "left": null,
            "margin": null,
            "max_height": null,
            "max_width": null,
            "min_height": null,
            "min_width": null,
            "object_fit": null,
            "object_position": null,
            "order": null,
            "overflow": null,
            "overflow_x": null,
            "overflow_y": null,
            "padding": null,
            "right": null,
            "top": null,
            "visibility": null,
            "width": null
          }
        },
        "3e585ac753aa4cf49064c56922b69ba2": {
          "model_module": "@jupyter-widgets/controls",
          "model_name": "DescriptionStyleModel",
          "model_module_version": "1.5.0",
          "state": {
            "_model_module": "@jupyter-widgets/controls",
            "_model_module_version": "1.5.0",
            "_model_name": "DescriptionStyleModel",
            "_view_count": null,
            "_view_module": "@jupyter-widgets/base",
            "_view_module_version": "1.2.0",
            "_view_name": "StyleView",
            "description_width": ""
          }
        },
        "0ce73033e57842f1a4bf98669dd9e77f": {
          "model_module": "@jupyter-widgets/controls",
          "model_name": "HBoxModel",
          "model_module_version": "1.5.0",
          "state": {
            "_dom_classes": [],
            "_model_module": "@jupyter-widgets/controls",
            "_model_module_version": "1.5.0",
            "_model_name": "HBoxModel",
            "_view_count": null,
            "_view_module": "@jupyter-widgets/controls",
            "_view_module_version": "1.5.0",
            "_view_name": "HBoxView",
            "box_style": "",
            "children": [
              "IPY_MODEL_55108e02c402488aad1caee9740c1593",
              "IPY_MODEL_05d50ea5dbd4483db31a61bf3d15158d",
              "IPY_MODEL_42226c367f5742f5a52d643e1272d306"
            ],
            "layout": "IPY_MODEL_4bacb1ee795c4d8a87c43633e47153d8"
          }
        },
        "55108e02c402488aad1caee9740c1593": {
          "model_module": "@jupyter-widgets/controls",
          "model_name": "HTMLModel",
          "model_module_version": "1.5.0",
          "state": {
            "_dom_classes": [],
            "_model_module": "@jupyter-widgets/controls",
            "_model_module_version": "1.5.0",
            "_model_name": "HTMLModel",
            "_view_count": null,
            "_view_module": "@jupyter-widgets/controls",
            "_view_module_version": "1.5.0",
            "_view_name": "HTMLView",
            "description": "",
            "description_tooltip": null,
            "layout": "IPY_MODEL_22737592912d4d6fabc7dd2ab7b19494",
            "placeholder": "​",
            "style": "IPY_MODEL_966cc3b46bc04babafca531e45b7e2b4",
            "value": "100%"
          }
        },
        "05d50ea5dbd4483db31a61bf3d15158d": {
          "model_module": "@jupyter-widgets/controls",
          "model_name": "FloatProgressModel",
          "model_module_version": "1.5.0",
          "state": {
            "_dom_classes": [],
            "_model_module": "@jupyter-widgets/controls",
            "_model_module_version": "1.5.0",
            "_model_name": "FloatProgressModel",
            "_view_count": null,
            "_view_module": "@jupyter-widgets/controls",
            "_view_module_version": "1.5.0",
            "_view_name": "ProgressView",
            "bar_style": "success",
            "description": "",
            "description_tooltip": null,
            "layout": "IPY_MODEL_115cdd2e43be469ab236b9280734c0a3",
            "max": 827,
            "min": 0,
            "orientation": "horizontal",
            "style": "IPY_MODEL_14a8da58d2bc41f39aebb950c32e201a",
            "value": 827
          }
        },
        "42226c367f5742f5a52d643e1272d306": {
          "model_module": "@jupyter-widgets/controls",
          "model_name": "HTMLModel",
          "model_module_version": "1.5.0",
          "state": {
            "_dom_classes": [],
            "_model_module": "@jupyter-widgets/controls",
            "_model_module_version": "1.5.0",
            "_model_name": "HTMLModel",
            "_view_count": null,
            "_view_module": "@jupyter-widgets/controls",
            "_view_module_version": "1.5.0",
            "_view_name": "HTMLView",
            "description": "",
            "description_tooltip": null,
            "layout": "IPY_MODEL_2f340949bb2148f3947c2753eb550137",
            "placeholder": "​",
            "style": "IPY_MODEL_589c0a6e484f4a5f9f194796513b9596",
            "value": " 827/827 [00:01&lt;00:00, 483.64it/s]"
          }
        },
        "4bacb1ee795c4d8a87c43633e47153d8": {
          "model_module": "@jupyter-widgets/base",
          "model_name": "LayoutModel",
          "model_module_version": "1.2.0",
          "state": {
            "_model_module": "@jupyter-widgets/base",
            "_model_module_version": "1.2.0",
            "_model_name": "LayoutModel",
            "_view_count": null,
            "_view_module": "@jupyter-widgets/base",
            "_view_module_version": "1.2.0",
            "_view_name": "LayoutView",
            "align_content": null,
            "align_items": null,
            "align_self": null,
            "border": null,
            "bottom": null,
            "display": null,
            "flex": null,
            "flex_flow": null,
            "grid_area": null,
            "grid_auto_columns": null,
            "grid_auto_flow": null,
            "grid_auto_rows": null,
            "grid_column": null,
            "grid_gap": null,
            "grid_row": null,
            "grid_template_areas": null,
            "grid_template_columns": null,
            "grid_template_rows": null,
            "height": null,
            "justify_content": null,
            "justify_items": null,
            "left": null,
            "margin": null,
            "max_height": null,
            "max_width": null,
            "min_height": null,
            "min_width": null,
            "object_fit": null,
            "object_position": null,
            "order": null,
            "overflow": null,
            "overflow_x": null,
            "overflow_y": null,
            "padding": null,
            "right": null,
            "top": null,
            "visibility": null,
            "width": null
          }
        },
        "22737592912d4d6fabc7dd2ab7b19494": {
          "model_module": "@jupyter-widgets/base",
          "model_name": "LayoutModel",
          "model_module_version": "1.2.0",
          "state": {
            "_model_module": "@jupyter-widgets/base",
            "_model_module_version": "1.2.0",
            "_model_name": "LayoutModel",
            "_view_count": null,
            "_view_module": "@jupyter-widgets/base",
            "_view_module_version": "1.2.0",
            "_view_name": "LayoutView",
            "align_content": null,
            "align_items": null,
            "align_self": null,
            "border": null,
            "bottom": null,
            "display": null,
            "flex": null,
            "flex_flow": null,
            "grid_area": null,
            "grid_auto_columns": null,
            "grid_auto_flow": null,
            "grid_auto_rows": null,
            "grid_column": null,
            "grid_gap": null,
            "grid_row": null,
            "grid_template_areas": null,
            "grid_template_columns": null,
            "grid_template_rows": null,
            "height": null,
            "justify_content": null,
            "justify_items": null,
            "left": null,
            "margin": null,
            "max_height": null,
            "max_width": null,
            "min_height": null,
            "min_width": null,
            "object_fit": null,
            "object_position": null,
            "order": null,
            "overflow": null,
            "overflow_x": null,
            "overflow_y": null,
            "padding": null,
            "right": null,
            "top": null,
            "visibility": null,
            "width": null
          }
        },
        "966cc3b46bc04babafca531e45b7e2b4": {
          "model_module": "@jupyter-widgets/controls",
          "model_name": "DescriptionStyleModel",
          "model_module_version": "1.5.0",
          "state": {
            "_model_module": "@jupyter-widgets/controls",
            "_model_module_version": "1.5.0",
            "_model_name": "DescriptionStyleModel",
            "_view_count": null,
            "_view_module": "@jupyter-widgets/base",
            "_view_module_version": "1.2.0",
            "_view_name": "StyleView",
            "description_width": ""
          }
        },
        "115cdd2e43be469ab236b9280734c0a3": {
          "model_module": "@jupyter-widgets/base",
          "model_name": "LayoutModel",
          "model_module_version": "1.2.0",
          "state": {
            "_model_module": "@jupyter-widgets/base",
            "_model_module_version": "1.2.0",
            "_model_name": "LayoutModel",
            "_view_count": null,
            "_view_module": "@jupyter-widgets/base",
            "_view_module_version": "1.2.0",
            "_view_name": "LayoutView",
            "align_content": null,
            "align_items": null,
            "align_self": null,
            "border": null,
            "bottom": null,
            "display": null,
            "flex": null,
            "flex_flow": null,
            "grid_area": null,
            "grid_auto_columns": null,
            "grid_auto_flow": null,
            "grid_auto_rows": null,
            "grid_column": null,
            "grid_gap": null,
            "grid_row": null,
            "grid_template_areas": null,
            "grid_template_columns": null,
            "grid_template_rows": null,
            "height": null,
            "justify_content": null,
            "justify_items": null,
            "left": null,
            "margin": null,
            "max_height": null,
            "max_width": null,
            "min_height": null,
            "min_width": null,
            "object_fit": null,
            "object_position": null,
            "order": null,
            "overflow": null,
            "overflow_x": null,
            "overflow_y": null,
            "padding": null,
            "right": null,
            "top": null,
            "visibility": null,
            "width": null
          }
        },
        "14a8da58d2bc41f39aebb950c32e201a": {
          "model_module": "@jupyter-widgets/controls",
          "model_name": "ProgressStyleModel",
          "model_module_version": "1.5.0",
          "state": {
            "_model_module": "@jupyter-widgets/controls",
            "_model_module_version": "1.5.0",
            "_model_name": "ProgressStyleModel",
            "_view_count": null,
            "_view_module": "@jupyter-widgets/base",
            "_view_module_version": "1.2.0",
            "_view_name": "StyleView",
            "bar_color": null,
            "description_width": ""
          }
        },
        "2f340949bb2148f3947c2753eb550137": {
          "model_module": "@jupyter-widgets/base",
          "model_name": "LayoutModel",
          "model_module_version": "1.2.0",
          "state": {
            "_model_module": "@jupyter-widgets/base",
            "_model_module_version": "1.2.0",
            "_model_name": "LayoutModel",
            "_view_count": null,
            "_view_module": "@jupyter-widgets/base",
            "_view_module_version": "1.2.0",
            "_view_name": "LayoutView",
            "align_content": null,
            "align_items": null,
            "align_self": null,
            "border": null,
            "bottom": null,
            "display": null,
            "flex": null,
            "flex_flow": null,
            "grid_area": null,
            "grid_auto_columns": null,
            "grid_auto_flow": null,
            "grid_auto_rows": null,
            "grid_column": null,
            "grid_gap": null,
            "grid_row": null,
            "grid_template_areas": null,
            "grid_template_columns": null,
            "grid_template_rows": null,
            "height": null,
            "justify_content": null,
            "justify_items": null,
            "left": null,
            "margin": null,
            "max_height": null,
            "max_width": null,
            "min_height": null,
            "min_width": null,
            "object_fit": null,
            "object_position": null,
            "order": null,
            "overflow": null,
            "overflow_x": null,
            "overflow_y": null,
            "padding": null,
            "right": null,
            "top": null,
            "visibility": null,
            "width": null
          }
        },
        "589c0a6e484f4a5f9f194796513b9596": {
          "model_module": "@jupyter-widgets/controls",
          "model_name": "DescriptionStyleModel",
          "model_module_version": "1.5.0",
          "state": {
            "_model_module": "@jupyter-widgets/controls",
            "_model_module_version": "1.5.0",
            "_model_name": "DescriptionStyleModel",
            "_view_count": null,
            "_view_module": "@jupyter-widgets/base",
            "_view_module_version": "1.2.0",
            "_view_name": "StyleView",
            "description_width": ""
          }
        }
      }
    }
  },
  "cells": [
    {
      "cell_type": "code",
      "execution_count": 1,
      "metadata": {
        "colab": {
          "base_uri": "https://localhost:8080/",
          "height": 90
        },
        "id": "NXpPw79SWg-9",
        "outputId": "e573e92b-cf73-47ee-bc60-71ce32d50c19"
      },
      "outputs": [
        {
          "output_type": "display_data",
          "data": {
            "text/plain": [
              "<IPython.core.display.HTML object>"
            ],
            "text/html": [
              "\n",
              "     <input type=\"file\" id=\"files-53d4120b-91a9-4999-836b-0527932d413e\" name=\"files[]\" multiple disabled\n",
              "        style=\"border:none\" />\n",
              "     <output id=\"result-53d4120b-91a9-4999-836b-0527932d413e\">\n",
              "      Upload widget is only available when the cell has been executed in the\n",
              "      current browser session. Please rerun this cell to enable.\n",
              "      </output>\n",
              "      <script>// Copyright 2017 Google LLC\n",
              "//\n",
              "// Licensed under the Apache License, Version 2.0 (the \"License\");\n",
              "// you may not use this file except in compliance with the License.\n",
              "// You may obtain a copy of the License at\n",
              "//\n",
              "//      http://www.apache.org/licenses/LICENSE-2.0\n",
              "//\n",
              "// Unless required by applicable law or agreed to in writing, software\n",
              "// distributed under the License is distributed on an \"AS IS\" BASIS,\n",
              "// WITHOUT WARRANTIES OR CONDITIONS OF ANY KIND, either express or implied.\n",
              "// See the License for the specific language governing permissions and\n",
              "// limitations under the License.\n",
              "\n",
              "/**\n",
              " * @fileoverview Helpers for google.colab Python module.\n",
              " */\n",
              "(function(scope) {\n",
              "function span(text, styleAttributes = {}) {\n",
              "  const element = document.createElement('span');\n",
              "  element.textContent = text;\n",
              "  for (const key of Object.keys(styleAttributes)) {\n",
              "    element.style[key] = styleAttributes[key];\n",
              "  }\n",
              "  return element;\n",
              "}\n",
              "\n",
              "// Max number of bytes which will be uploaded at a time.\n",
              "const MAX_PAYLOAD_SIZE = 100 * 1024;\n",
              "\n",
              "function _uploadFiles(inputId, outputId) {\n",
              "  const steps = uploadFilesStep(inputId, outputId);\n",
              "  const outputElement = document.getElementById(outputId);\n",
              "  // Cache steps on the outputElement to make it available for the next call\n",
              "  // to uploadFilesContinue from Python.\n",
              "  outputElement.steps = steps;\n",
              "\n",
              "  return _uploadFilesContinue(outputId);\n",
              "}\n",
              "\n",
              "// This is roughly an async generator (not supported in the browser yet),\n",
              "// where there are multiple asynchronous steps and the Python side is going\n",
              "// to poll for completion of each step.\n",
              "// This uses a Promise to block the python side on completion of each step,\n",
              "// then passes the result of the previous step as the input to the next step.\n",
              "function _uploadFilesContinue(outputId) {\n",
              "  const outputElement = document.getElementById(outputId);\n",
              "  const steps = outputElement.steps;\n",
              "\n",
              "  const next = steps.next(outputElement.lastPromiseValue);\n",
              "  return Promise.resolve(next.value.promise).then((value) => {\n",
              "    // Cache the last promise value to make it available to the next\n",
              "    // step of the generator.\n",
              "    outputElement.lastPromiseValue = value;\n",
              "    return next.value.response;\n",
              "  });\n",
              "}\n",
              "\n",
              "/**\n",
              " * Generator function which is called between each async step of the upload\n",
              " * process.\n",
              " * @param {string} inputId Element ID of the input file picker element.\n",
              " * @param {string} outputId Element ID of the output display.\n",
              " * @return {!Iterable<!Object>} Iterable of next steps.\n",
              " */\n",
              "function* uploadFilesStep(inputId, outputId) {\n",
              "  const inputElement = document.getElementById(inputId);\n",
              "  inputElement.disabled = false;\n",
              "\n",
              "  const outputElement = document.getElementById(outputId);\n",
              "  outputElement.innerHTML = '';\n",
              "\n",
              "  const pickedPromise = new Promise((resolve) => {\n",
              "    inputElement.addEventListener('change', (e) => {\n",
              "      resolve(e.target.files);\n",
              "    });\n",
              "  });\n",
              "\n",
              "  const cancel = document.createElement('button');\n",
              "  inputElement.parentElement.appendChild(cancel);\n",
              "  cancel.textContent = 'Cancel upload';\n",
              "  const cancelPromise = new Promise((resolve) => {\n",
              "    cancel.onclick = () => {\n",
              "      resolve(null);\n",
              "    };\n",
              "  });\n",
              "\n",
              "  // Wait for the user to pick the files.\n",
              "  const files = yield {\n",
              "    promise: Promise.race([pickedPromise, cancelPromise]),\n",
              "    response: {\n",
              "      action: 'starting',\n",
              "    }\n",
              "  };\n",
              "\n",
              "  cancel.remove();\n",
              "\n",
              "  // Disable the input element since further picks are not allowed.\n",
              "  inputElement.disabled = true;\n",
              "\n",
              "  if (!files) {\n",
              "    return {\n",
              "      response: {\n",
              "        action: 'complete',\n",
              "      }\n",
              "    };\n",
              "  }\n",
              "\n",
              "  for (const file of files) {\n",
              "    const li = document.createElement('li');\n",
              "    li.append(span(file.name, {fontWeight: 'bold'}));\n",
              "    li.append(span(\n",
              "        `(${file.type || 'n/a'}) - ${file.size} bytes, ` +\n",
              "        `last modified: ${\n",
              "            file.lastModifiedDate ? file.lastModifiedDate.toLocaleDateString() :\n",
              "                                    'n/a'} - `));\n",
              "    const percent = span('0% done');\n",
              "    li.appendChild(percent);\n",
              "\n",
              "    outputElement.appendChild(li);\n",
              "\n",
              "    const fileDataPromise = new Promise((resolve) => {\n",
              "      const reader = new FileReader();\n",
              "      reader.onload = (e) => {\n",
              "        resolve(e.target.result);\n",
              "      };\n",
              "      reader.readAsArrayBuffer(file);\n",
              "    });\n",
              "    // Wait for the data to be ready.\n",
              "    let fileData = yield {\n",
              "      promise: fileDataPromise,\n",
              "      response: {\n",
              "        action: 'continue',\n",
              "      }\n",
              "    };\n",
              "\n",
              "    // Use a chunked sending to avoid message size limits. See b/62115660.\n",
              "    let position = 0;\n",
              "    do {\n",
              "      const length = Math.min(fileData.byteLength - position, MAX_PAYLOAD_SIZE);\n",
              "      const chunk = new Uint8Array(fileData, position, length);\n",
              "      position += length;\n",
              "\n",
              "      const base64 = btoa(String.fromCharCode.apply(null, chunk));\n",
              "      yield {\n",
              "        response: {\n",
              "          action: 'append',\n",
              "          file: file.name,\n",
              "          data: base64,\n",
              "        },\n",
              "      };\n",
              "\n",
              "      let percentDone = fileData.byteLength === 0 ?\n",
              "          100 :\n",
              "          Math.round((position / fileData.byteLength) * 100);\n",
              "      percent.textContent = `${percentDone}% done`;\n",
              "\n",
              "    } while (position < fileData.byteLength);\n",
              "  }\n",
              "\n",
              "  // All done.\n",
              "  yield {\n",
              "    response: {\n",
              "      action: 'complete',\n",
              "    }\n",
              "  };\n",
              "}\n",
              "\n",
              "scope.google = scope.google || {};\n",
              "scope.google.colab = scope.google.colab || {};\n",
              "scope.google.colab._files = {\n",
              "  _uploadFiles,\n",
              "  _uploadFilesContinue,\n",
              "};\n",
              "})(self);\n",
              "</script> "
            ]
          },
          "metadata": {}
        },
        {
          "output_type": "stream",
          "name": "stdout",
          "text": [
            "Saving kaggle.json to kaggle.json\n",
            "User uploaded file \"kaggle.json\" with length 68 bytes\n"
          ]
        }
      ],
      "source": [
        "from google.colab import files\n",
        "\n",
        "uploaded = files.upload()\n",
        "\n",
        "for fn in uploaded.keys():\n",
        "  print('User uploaded file \"{name}\" with length {length} bytes'.format(\n",
        "      name=fn, length=len(uploaded[fn])))\n",
        "\n",
        "# Then move kaggle.json into the folder where the API expects to find it.\n",
        "!mkdir -p ~/.kaggle/ && mv kaggle.json ~/.kaggle/ && chmod 600 ~/.kaggle/kaggle.json"
      ]
    },
    {
      "cell_type": "code",
      "source": [
        "!kaggle datasets download -d sartajbhuvaji/brain-tumor-classification-mri"
      ],
      "metadata": {
        "colab": {
          "base_uri": "https://localhost:8080/"
        },
        "id": "xUIj8WkrXwaB",
        "outputId": "4f74ad09-e48e-4f42-ccc6-674add46717c"
      },
      "execution_count": 5,
      "outputs": [
        {
          "output_type": "stream",
          "name": "stdout",
          "text": [
            "Dataset URL: https://www.kaggle.com/datasets/sartajbhuvaji/brain-tumor-classification-mri\n",
            "License(s): MIT\n",
            "Downloading brain-tumor-classification-mri.zip to /content\n",
            " 90% 78.0M/86.8M [00:00<00:00, 144MB/s]\n",
            "100% 86.8M/86.8M [00:00<00:00, 131MB/s]\n"
          ]
        }
      ]
    },
    {
      "cell_type": "code",
      "source": [
        "import tensorflow as tf\n",
        "from zipfile import ZipFile\n",
        "import os,glob\n",
        "import cv2\n",
        "from tqdm._tqdm_notebook import tqdm_notebook as tqdm\n",
        "import numpy as np\n",
        "from sklearn import preprocessing\n",
        "from sklearn.model_selection import train_test_split\n",
        "from keras.models import Sequential\n",
        "from keras.layers import Convolution2D, Dropout, Dense,MaxPooling2D\n",
        "from keras.layers import BatchNormalization\n",
        "from keras.layers import MaxPooling2D\n",
        "from keras.layers import Flatten"
      ],
      "metadata": {
        "id": "Pf9-PvRYYXvm"
      },
      "execution_count": 6,
      "outputs": []
    },
    {
      "cell_type": "code",
      "source": [
        "from zipfile import ZipFile\n",
        "file_name = \"/content/brain-tumor-classification-mri.zip\"\n",
        "with ZipFile(file_name,'r') as zip:\n",
        "  zip.extractall()\n",
        "  print('Done')\n",
        ""
      ],
      "metadata": {
        "colab": {
          "base_uri": "https://localhost:8080/"
        },
        "id": "YxvoLu6MYfRi",
        "outputId": "01df7549-5ae2-4f0b-fe6e-5655a3b46aef"
      },
      "execution_count": 7,
      "outputs": [
        {
          "output_type": "stream",
          "name": "stdout",
          "text": [
            "Done\n"
          ]
        }
      ]
    },
    {
      "cell_type": "code",
      "source": [
        "from google.colab import drive\n",
        "drive.mount('/content/drive')"
      ],
      "metadata": {
        "id": "5C_FzgN4bNCi"
      },
      "execution_count": null,
      "outputs": []
    },
    {
      "cell_type": "code",
      "source": [
        "# Initialize lists\n",
        "X = []\n",
        "y = []\n",
        "\n",
        "# Define the classes and corresponding directories\n",
        "classes = ['glioma_tumor', 'meningioma_tumor', 'no_tumor', 'pituitary_tumor']\n",
        "base_dir = '/content/Training/'\n",
        "\n",
        "for class_name in classes:\n",
        "    class_dir = os.path.join(base_dir, class_name)\n",
        "    os.chdir(class_dir)\n",
        "\n",
        "    for i in tqdm(os.listdir()):\n",
        "        img = cv2.imread(i)\n",
        "        img = cv2.resize(img, (224, 224))\n",
        "        X.append(img)\n",
        "        y.append(class_name)  # Append the class name or label\n",
        "\n",
        "print(y)"
      ],
      "metadata": {
        "colab": {
          "base_uri": "https://localhost:8080/",
          "height": 182,
          "referenced_widgets": [
            "d4b3bccc9080483cab1d1f2fd6883e89",
            "c605f563f215400d86b146de702e5df4",
            "b07c2f72532f4bd8812594144b7612a6",
            "bbe844e5f19245d784a2af48a3f2b77b",
            "d398fbd502c64b9ab0ea9537b940688f",
            "4e0f648df09d49288c47d41ec59b476a",
            "2ae3ee7b3f624cc78acba366651ce3e9",
            "b3885c6ed0f74a919f350d9ead5212bd",
            "e643c59b98034524ab4c0492b71a5e7a",
            "f12cc92b7ccf469faebe09c89ed849ed",
            "f3ad51a813a64a7fa532f75abd4ec8f4",
            "4d97e5c048574397992db0f31b60520c",
            "86a106ecd2cc464aa0c1ae71a78e35fe",
            "93fce241013845f28b423b46b6837c32",
            "bed2b0a319b94608b8134c8892b59594",
            "d1becc792da5485d84f74e9e4616b51c",
            "dd69601a357f4cc2b7c990939815aa27",
            "db973a4179a34e9ba0ce0f96498249a1",
            "cd2a9254e2c54418a310b79e6fb87869",
            "34801612420a4396aed907d86eaff8cc",
            "0e23a217a9e34ed6b078c586e451f71d",
            "378582e42b754ced9cc1c19a5f840141",
            "ecc433f592a947f399257d7b2132ae68",
            "421131afcf234673be581235e9eec63d",
            "8ce70e42b40e43b48db80ae01cca6d91",
            "3b0fbbbacef24e669e7bfd6299fbca55",
            "922fd6ca94f94cd2be28e6f8a03aa851",
            "d52d3942e9104f9c93febd3b2f56b6aa",
            "be8e1346ee274c00a9bee96a059948f1",
            "1ef00ce1040c4176997042ac157e2ea0",
            "5af2f2dd670648329b472f037291a026",
            "aa1c1d5a9e9a41b79560c01de35b9250",
            "3e585ac753aa4cf49064c56922b69ba2",
            "0ce73033e57842f1a4bf98669dd9e77f",
            "55108e02c402488aad1caee9740c1593",
            "05d50ea5dbd4483db31a61bf3d15158d",
            "42226c367f5742f5a52d643e1272d306",
            "4bacb1ee795c4d8a87c43633e47153d8",
            "22737592912d4d6fabc7dd2ab7b19494",
            "966cc3b46bc04babafca531e45b7e2b4",
            "115cdd2e43be469ab236b9280734c0a3",
            "14a8da58d2bc41f39aebb950c32e201a",
            "2f340949bb2148f3947c2753eb550137",
            "589c0a6e484f4a5f9f194796513b9596"
          ]
        },
        "id": "L1J8mIR0Y5V2",
        "outputId": "12ab063d-7592-44d8-c29f-8a16572789e5"
      },
      "execution_count": 8,
      "outputs": [
        {
          "output_type": "display_data",
          "data": {
            "text/plain": [
              "  0%|          | 0/826 [00:00<?, ?it/s]"
            ],
            "application/vnd.jupyter.widget-view+json": {
              "version_major": 2,
              "version_minor": 0,
              "model_id": "d4b3bccc9080483cab1d1f2fd6883e89"
            }
          },
          "metadata": {}
        },
        {
          "output_type": "display_data",
          "data": {
            "text/plain": [
              "  0%|          | 0/822 [00:00<?, ?it/s]"
            ],
            "application/vnd.jupyter.widget-view+json": {
              "version_major": 2,
              "version_minor": 0,
              "model_id": "4d97e5c048574397992db0f31b60520c"
            }
          },
          "metadata": {}
        },
        {
          "output_type": "display_data",
          "data": {
            "text/plain": [
              "  0%|          | 0/395 [00:00<?, ?it/s]"
            ],
            "application/vnd.jupyter.widget-view+json": {
              "version_major": 2,
              "version_minor": 0,
              "model_id": "ecc433f592a947f399257d7b2132ae68"
            }
          },
          "metadata": {}
        },
        {
          "output_type": "display_data",
          "data": {
            "text/plain": [
              "  0%|          | 0/827 [00:00<?, ?it/s]"
            ],
            "application/vnd.jupyter.widget-view+json": {
              "version_major": 2,
              "version_minor": 0,
              "model_id": "0ce73033e57842f1a4bf98669dd9e77f"
            }
          },
          "metadata": {}
        },
        {
          "output_type": "stream",
          "name": "stdout",
          "text": [
            "['glioma_tumor', 'glioma_tumor', 'glioma_tumor', 'glioma_tumor', 'glioma_tumor', 'glioma_tumor', 'glioma_tumor', 'glioma_tumor', 'glioma_tumor', 'glioma_tumor', 'glioma_tumor', 'glioma_tumor', 'glioma_tumor', 'glioma_tumor', 'glioma_tumor', 'glioma_tumor', 'glioma_tumor', 'glioma_tumor', 'glioma_tumor', 'glioma_tumor', 'glioma_tumor', 'glioma_tumor', 'glioma_tumor', 'glioma_tumor', 'glioma_tumor', 'glioma_tumor', 'glioma_tumor', 'glioma_tumor', 'glioma_tumor', 'glioma_tumor', 'glioma_tumor', 'glioma_tumor', 'glioma_tumor', 'glioma_tumor', 'glioma_tumor', 'glioma_tumor', 'glioma_tumor', 'glioma_tumor', 'glioma_tumor', 'glioma_tumor', 'glioma_tumor', 'glioma_tumor', 'glioma_tumor', 'glioma_tumor', 'glioma_tumor', 'glioma_tumor', 'glioma_tumor', 'glioma_tumor', 'glioma_tumor', 'glioma_tumor', 'glioma_tumor', 'glioma_tumor', 'glioma_tumor', 'glioma_tumor', 'glioma_tumor', 'glioma_tumor', 'glioma_tumor', 'glioma_tumor', 'glioma_tumor', 'glioma_tumor', 'glioma_tumor', 'glioma_tumor', 'glioma_tumor', 'glioma_tumor', 'glioma_tumor', 'glioma_tumor', 'glioma_tumor', 'glioma_tumor', 'glioma_tumor', 'glioma_tumor', 'glioma_tumor', 'glioma_tumor', 'glioma_tumor', 'glioma_tumor', 'glioma_tumor', 'glioma_tumor', 'glioma_tumor', 'glioma_tumor', 'glioma_tumor', 'glioma_tumor', 'glioma_tumor', 'glioma_tumor', 'glioma_tumor', 'glioma_tumor', 'glioma_tumor', 'glioma_tumor', 'glioma_tumor', 'glioma_tumor', 'glioma_tumor', 'glioma_tumor', 'glioma_tumor', 'glioma_tumor', 'glioma_tumor', 'glioma_tumor', 'glioma_tumor', 'glioma_tumor', 'glioma_tumor', 'glioma_tumor', 'glioma_tumor', 'glioma_tumor', 'glioma_tumor', 'glioma_tumor', 'glioma_tumor', 'glioma_tumor', 'glioma_tumor', 'glioma_tumor', 'glioma_tumor', 'glioma_tumor', 'glioma_tumor', 'glioma_tumor', 'glioma_tumor', 'glioma_tumor', 'glioma_tumor', 'glioma_tumor', 'glioma_tumor', 'glioma_tumor', 'glioma_tumor', 'glioma_tumor', 'glioma_tumor', 'glioma_tumor', 'glioma_tumor', 'glioma_tumor', 'glioma_tumor', 'glioma_tumor', 'glioma_tumor', 'glioma_tumor', 'glioma_tumor', 'glioma_tumor', 'glioma_tumor', 'glioma_tumor', 'glioma_tumor', 'glioma_tumor', 'glioma_tumor', 'glioma_tumor', 'glioma_tumor', 'glioma_tumor', 'glioma_tumor', 'glioma_tumor', 'glioma_tumor', 'glioma_tumor', 'glioma_tumor', 'glioma_tumor', 'glioma_tumor', 'glioma_tumor', 'glioma_tumor', 'glioma_tumor', 'glioma_tumor', 'glioma_tumor', 'glioma_tumor', 'glioma_tumor', 'glioma_tumor', 'glioma_tumor', 'glioma_tumor', 'glioma_tumor', 'glioma_tumor', 'glioma_tumor', 'glioma_tumor', 'glioma_tumor', 'glioma_tumor', 'glioma_tumor', 'glioma_tumor', 'glioma_tumor', 'glioma_tumor', 'glioma_tumor', 'glioma_tumor', 'glioma_tumor', 'glioma_tumor', 'glioma_tumor', 'glioma_tumor', 'glioma_tumor', 'glioma_tumor', 'glioma_tumor', 'glioma_tumor', 'glioma_tumor', 'glioma_tumor', 'glioma_tumor', 'glioma_tumor', 'glioma_tumor', 'glioma_tumor', 'glioma_tumor', 'glioma_tumor', 'glioma_tumor', 'glioma_tumor', 'glioma_tumor', 'glioma_tumor', 'glioma_tumor', 'glioma_tumor', 'glioma_tumor', 'glioma_tumor', 'glioma_tumor', 'glioma_tumor', 'glioma_tumor', 'glioma_tumor', 'glioma_tumor', 'glioma_tumor', 'glioma_tumor', 'glioma_tumor', 'glioma_tumor', 'glioma_tumor', 'glioma_tumor', 'glioma_tumor', 'glioma_tumor', 'glioma_tumor', 'glioma_tumor', 'glioma_tumor', 'glioma_tumor', 'glioma_tumor', 'glioma_tumor', 'glioma_tumor', 'glioma_tumor', 'glioma_tumor', 'glioma_tumor', 'glioma_tumor', 'glioma_tumor', 'glioma_tumor', 'glioma_tumor', 'glioma_tumor', 'glioma_tumor', 'glioma_tumor', 'glioma_tumor', 'glioma_tumor', 'glioma_tumor', 'glioma_tumor', 'glioma_tumor', 'glioma_tumor', 'glioma_tumor', 'glioma_tumor', 'glioma_tumor', 'glioma_tumor', 'glioma_tumor', 'glioma_tumor', 'glioma_tumor', 'glioma_tumor', 'glioma_tumor', 'glioma_tumor', 'glioma_tumor', 'glioma_tumor', 'glioma_tumor', 'glioma_tumor', 'glioma_tumor', 'glioma_tumor', 'glioma_tumor', 'glioma_tumor', 'glioma_tumor', 'glioma_tumor', 'glioma_tumor', 'glioma_tumor', 'glioma_tumor', 'glioma_tumor', 'glioma_tumor', 'glioma_tumor', 'glioma_tumor', 'glioma_tumor', 'glioma_tumor', 'glioma_tumor', 'glioma_tumor', 'glioma_tumor', 'glioma_tumor', 'glioma_tumor', 'glioma_tumor', 'glioma_tumor', 'glioma_tumor', 'glioma_tumor', 'glioma_tumor', 'glioma_tumor', 'glioma_tumor', 'glioma_tumor', 'glioma_tumor', 'glioma_tumor', 'glioma_tumor', 'glioma_tumor', 'glioma_tumor', 'glioma_tumor', 'glioma_tumor', 'glioma_tumor', 'glioma_tumor', 'glioma_tumor', 'glioma_tumor', 'glioma_tumor', 'glioma_tumor', 'glioma_tumor', 'glioma_tumor', 'glioma_tumor', 'glioma_tumor', 'glioma_tumor', 'glioma_tumor', 'glioma_tumor', 'glioma_tumor', 'glioma_tumor', 'glioma_tumor', 'glioma_tumor', 'glioma_tumor', 'glioma_tumor', 'glioma_tumor', 'glioma_tumor', 'glioma_tumor', 'glioma_tumor', 'glioma_tumor', 'glioma_tumor', 'glioma_tumor', 'glioma_tumor', 'glioma_tumor', 'glioma_tumor', 'glioma_tumor', 'glioma_tumor', 'glioma_tumor', 'glioma_tumor', 'glioma_tumor', 'glioma_tumor', 'glioma_tumor', 'glioma_tumor', 'glioma_tumor', 'glioma_tumor', 'glioma_tumor', 'glioma_tumor', 'glioma_tumor', 'glioma_tumor', 'glioma_tumor', 'glioma_tumor', 'glioma_tumor', 'glioma_tumor', 'glioma_tumor', 'glioma_tumor', 'glioma_tumor', 'glioma_tumor', 'glioma_tumor', 'glioma_tumor', 'glioma_tumor', 'glioma_tumor', 'glioma_tumor', 'glioma_tumor', 'glioma_tumor', 'glioma_tumor', 'glioma_tumor', 'glioma_tumor', 'glioma_tumor', 'glioma_tumor', 'glioma_tumor', 'glioma_tumor', 'glioma_tumor', 'glioma_tumor', 'glioma_tumor', 'glioma_tumor', 'glioma_tumor', 'glioma_tumor', 'glioma_tumor', 'glioma_tumor', 'glioma_tumor', 'glioma_tumor', 'glioma_tumor', 'glioma_tumor', 'glioma_tumor', 'glioma_tumor', 'glioma_tumor', 'glioma_tumor', 'glioma_tumor', 'glioma_tumor', 'glioma_tumor', 'glioma_tumor', 'glioma_tumor', 'glioma_tumor', 'glioma_tumor', 'glioma_tumor', 'glioma_tumor', 'glioma_tumor', 'glioma_tumor', 'glioma_tumor', 'glioma_tumor', 'glioma_tumor', 'glioma_tumor', 'glioma_tumor', 'glioma_tumor', 'glioma_tumor', 'glioma_tumor', 'glioma_tumor', 'glioma_tumor', 'glioma_tumor', 'glioma_tumor', 'glioma_tumor', 'glioma_tumor', 'glioma_tumor', 'glioma_tumor', 'glioma_tumor', 'glioma_tumor', 'glioma_tumor', 'glioma_tumor', 'glioma_tumor', 'glioma_tumor', 'glioma_tumor', 'glioma_tumor', 'glioma_tumor', 'glioma_tumor', 'glioma_tumor', 'glioma_tumor', 'glioma_tumor', 'glioma_tumor', 'glioma_tumor', 'glioma_tumor', 'glioma_tumor', 'glioma_tumor', 'glioma_tumor', 'glioma_tumor', 'glioma_tumor', 'glioma_tumor', 'glioma_tumor', 'glioma_tumor', 'glioma_tumor', 'glioma_tumor', 'glioma_tumor', 'glioma_tumor', 'glioma_tumor', 'glioma_tumor', 'glioma_tumor', 'glioma_tumor', 'glioma_tumor', 'glioma_tumor', 'glioma_tumor', 'glioma_tumor', 'glioma_tumor', 'glioma_tumor', 'glioma_tumor', 'glioma_tumor', 'glioma_tumor', 'glioma_tumor', 'glioma_tumor', 'glioma_tumor', 'glioma_tumor', 'glioma_tumor', 'glioma_tumor', 'glioma_tumor', 'glioma_tumor', 'glioma_tumor', 'glioma_tumor', 'glioma_tumor', 'glioma_tumor', 'glioma_tumor', 'glioma_tumor', 'glioma_tumor', 'glioma_tumor', 'glioma_tumor', 'glioma_tumor', 'glioma_tumor', 'glioma_tumor', 'glioma_tumor', 'glioma_tumor', 'glioma_tumor', 'glioma_tumor', 'glioma_tumor', 'glioma_tumor', 'glioma_tumor', 'glioma_tumor', 'glioma_tumor', 'glioma_tumor', 'glioma_tumor', 'glioma_tumor', 'glioma_tumor', 'glioma_tumor', 'glioma_tumor', 'glioma_tumor', 'glioma_tumor', 'glioma_tumor', 'glioma_tumor', 'glioma_tumor', 'glioma_tumor', 'glioma_tumor', 'glioma_tumor', 'glioma_tumor', 'glioma_tumor', 'glioma_tumor', 'glioma_tumor', 'glioma_tumor', 'glioma_tumor', 'glioma_tumor', 'glioma_tumor', 'glioma_tumor', 'glioma_tumor', 'glioma_tumor', 'glioma_tumor', 'glioma_tumor', 'glioma_tumor', 'glioma_tumor', 'glioma_tumor', 'glioma_tumor', 'glioma_tumor', 'glioma_tumor', 'glioma_tumor', 'glioma_tumor', 'glioma_tumor', 'glioma_tumor', 'glioma_tumor', 'glioma_tumor', 'glioma_tumor', 'glioma_tumor', 'glioma_tumor', 'glioma_tumor', 'glioma_tumor', 'glioma_tumor', 'glioma_tumor', 'glioma_tumor', 'glioma_tumor', 'glioma_tumor', 'glioma_tumor', 'glioma_tumor', 'glioma_tumor', 'glioma_tumor', 'glioma_tumor', 'glioma_tumor', 'glioma_tumor', 'glioma_tumor', 'glioma_tumor', 'glioma_tumor', 'glioma_tumor', 'glioma_tumor', 'glioma_tumor', 'glioma_tumor', 'glioma_tumor', 'glioma_tumor', 'glioma_tumor', 'glioma_tumor', 'glioma_tumor', 'glioma_tumor', 'glioma_tumor', 'glioma_tumor', 'glioma_tumor', 'glioma_tumor', 'glioma_tumor', 'glioma_tumor', 'glioma_tumor', 'glioma_tumor', 'glioma_tumor', 'glioma_tumor', 'glioma_tumor', 'glioma_tumor', 'glioma_tumor', 'glioma_tumor', 'glioma_tumor', 'glioma_tumor', 'glioma_tumor', 'glioma_tumor', 'glioma_tumor', 'glioma_tumor', 'glioma_tumor', 'glioma_tumor', 'glioma_tumor', 'glioma_tumor', 'glioma_tumor', 'glioma_tumor', 'glioma_tumor', 'glioma_tumor', 'glioma_tumor', 'glioma_tumor', 'glioma_tumor', 'glioma_tumor', 'glioma_tumor', 'glioma_tumor', 'glioma_tumor', 'glioma_tumor', 'glioma_tumor', 'glioma_tumor', 'glioma_tumor', 'glioma_tumor', 'glioma_tumor', 'glioma_tumor', 'glioma_tumor', 'glioma_tumor', 'glioma_tumor', 'glioma_tumor', 'glioma_tumor', 'glioma_tumor', 'glioma_tumor', 'glioma_tumor', 'glioma_tumor', 'glioma_tumor', 'glioma_tumor', 'glioma_tumor', 'glioma_tumor', 'glioma_tumor', 'glioma_tumor', 'glioma_tumor', 'glioma_tumor', 'glioma_tumor', 'glioma_tumor', 'glioma_tumor', 'glioma_tumor', 'glioma_tumor', 'glioma_tumor', 'glioma_tumor', 'glioma_tumor', 'glioma_tumor', 'glioma_tumor', 'glioma_tumor', 'glioma_tumor', 'glioma_tumor', 'glioma_tumor', 'glioma_tumor', 'glioma_tumor', 'glioma_tumor', 'glioma_tumor', 'glioma_tumor', 'glioma_tumor', 'glioma_tumor', 'glioma_tumor', 'glioma_tumor', 'glioma_tumor', 'glioma_tumor', 'glioma_tumor', 'glioma_tumor', 'glioma_tumor', 'glioma_tumor', 'glioma_tumor', 'glioma_tumor', 'glioma_tumor', 'glioma_tumor', 'glioma_tumor', 'glioma_tumor', 'glioma_tumor', 'glioma_tumor', 'glioma_tumor', 'glioma_tumor', 'glioma_tumor', 'glioma_tumor', 'glioma_tumor', 'glioma_tumor', 'glioma_tumor', 'glioma_tumor', 'glioma_tumor', 'glioma_tumor', 'glioma_tumor', 'glioma_tumor', 'glioma_tumor', 'glioma_tumor', 'glioma_tumor', 'glioma_tumor', 'glioma_tumor', 'glioma_tumor', 'glioma_tumor', 'glioma_tumor', 'glioma_tumor', 'glioma_tumor', 'glioma_tumor', 'glioma_tumor', 'glioma_tumor', 'glioma_tumor', 'glioma_tumor', 'glioma_tumor', 'glioma_tumor', 'glioma_tumor', 'glioma_tumor', 'glioma_tumor', 'glioma_tumor', 'glioma_tumor', 'glioma_tumor', 'glioma_tumor', 'glioma_tumor', 'glioma_tumor', 'glioma_tumor', 'glioma_tumor', 'glioma_tumor', 'glioma_tumor', 'glioma_tumor', 'glioma_tumor', 'glioma_tumor', 'glioma_tumor', 'glioma_tumor', 'glioma_tumor', 'glioma_tumor', 'glioma_tumor', 'glioma_tumor', 'glioma_tumor', 'glioma_tumor', 'glioma_tumor', 'glioma_tumor', 'glioma_tumor', 'glioma_tumor', 'glioma_tumor', 'glioma_tumor', 'glioma_tumor', 'glioma_tumor', 'glioma_tumor', 'glioma_tumor', 'glioma_tumor', 'glioma_tumor', 'glioma_tumor', 'glioma_tumor', 'glioma_tumor', 'glioma_tumor', 'glioma_tumor', 'glioma_tumor', 'glioma_tumor', 'glioma_tumor', 'glioma_tumor', 'glioma_tumor', 'glioma_tumor', 'glioma_tumor', 'glioma_tumor', 'glioma_tumor', 'glioma_tumor', 'glioma_tumor', 'glioma_tumor', 'glioma_tumor', 'glioma_tumor', 'glioma_tumor', 'glioma_tumor', 'glioma_tumor', 'glioma_tumor', 'glioma_tumor', 'glioma_tumor', 'glioma_tumor', 'glioma_tumor', 'glioma_tumor', 'glioma_tumor', 'glioma_tumor', 'glioma_tumor', 'glioma_tumor', 'glioma_tumor', 'glioma_tumor', 'glioma_tumor', 'glioma_tumor', 'glioma_tumor', 'glioma_tumor', 'glioma_tumor', 'glioma_tumor', 'glioma_tumor', 'glioma_tumor', 'glioma_tumor', 'glioma_tumor', 'glioma_tumor', 'glioma_tumor', 'glioma_tumor', 'glioma_tumor', 'glioma_tumor', 'glioma_tumor', 'glioma_tumor', 'glioma_tumor', 'glioma_tumor', 'glioma_tumor', 'glioma_tumor', 'glioma_tumor', 'glioma_tumor', 'glioma_tumor', 'glioma_tumor', 'glioma_tumor', 'glioma_tumor', 'glioma_tumor', 'glioma_tumor', 'glioma_tumor', 'glioma_tumor', 'glioma_tumor', 'glioma_tumor', 'glioma_tumor', 'glioma_tumor', 'glioma_tumor', 'glioma_tumor', 'glioma_tumor', 'glioma_tumor', 'glioma_tumor', 'glioma_tumor', 'glioma_tumor', 'glioma_tumor', 'glioma_tumor', 'glioma_tumor', 'glioma_tumor', 'glioma_tumor', 'glioma_tumor', 'glioma_tumor', 'glioma_tumor', 'glioma_tumor', 'glioma_tumor', 'glioma_tumor', 'glioma_tumor', 'glioma_tumor', 'glioma_tumor', 'glioma_tumor', 'glioma_tumor', 'glioma_tumor', 'glioma_tumor', 'glioma_tumor', 'glioma_tumor', 'glioma_tumor', 'glioma_tumor', 'glioma_tumor', 'glioma_tumor', 'glioma_tumor', 'glioma_tumor', 'glioma_tumor', 'glioma_tumor', 'glioma_tumor', 'glioma_tumor', 'glioma_tumor', 'glioma_tumor', 'glioma_tumor', 'glioma_tumor', 'glioma_tumor', 'glioma_tumor', 'glioma_tumor', 'glioma_tumor', 'glioma_tumor', 'glioma_tumor', 'glioma_tumor', 'glioma_tumor', 'glioma_tumor', 'glioma_tumor', 'glioma_tumor', 'glioma_tumor', 'glioma_tumor', 'glioma_tumor', 'glioma_tumor', 'glioma_tumor', 'glioma_tumor', 'glioma_tumor', 'glioma_tumor', 'glioma_tumor', 'glioma_tumor', 'glioma_tumor', 'glioma_tumor', 'glioma_tumor', 'glioma_tumor', 'glioma_tumor', 'glioma_tumor', 'glioma_tumor', 'glioma_tumor', 'glioma_tumor', 'glioma_tumor', 'glioma_tumor', 'glioma_tumor', 'glioma_tumor', 'meningioma_tumor', 'meningioma_tumor', 'meningioma_tumor', 'meningioma_tumor', 'meningioma_tumor', 'meningioma_tumor', 'meningioma_tumor', 'meningioma_tumor', 'meningioma_tumor', 'meningioma_tumor', 'meningioma_tumor', 'meningioma_tumor', 'meningioma_tumor', 'meningioma_tumor', 'meningioma_tumor', 'meningioma_tumor', 'meningioma_tumor', 'meningioma_tumor', 'meningioma_tumor', 'meningioma_tumor', 'meningioma_tumor', 'meningioma_tumor', 'meningioma_tumor', 'meningioma_tumor', 'meningioma_tumor', 'meningioma_tumor', 'meningioma_tumor', 'meningioma_tumor', 'meningioma_tumor', 'meningioma_tumor', 'meningioma_tumor', 'meningioma_tumor', 'meningioma_tumor', 'meningioma_tumor', 'meningioma_tumor', 'meningioma_tumor', 'meningioma_tumor', 'meningioma_tumor', 'meningioma_tumor', 'meningioma_tumor', 'meningioma_tumor', 'meningioma_tumor', 'meningioma_tumor', 'meningioma_tumor', 'meningioma_tumor', 'meningioma_tumor', 'meningioma_tumor', 'meningioma_tumor', 'meningioma_tumor', 'meningioma_tumor', 'meningioma_tumor', 'meningioma_tumor', 'meningioma_tumor', 'meningioma_tumor', 'meningioma_tumor', 'meningioma_tumor', 'meningioma_tumor', 'meningioma_tumor', 'meningioma_tumor', 'meningioma_tumor', 'meningioma_tumor', 'meningioma_tumor', 'meningioma_tumor', 'meningioma_tumor', 'meningioma_tumor', 'meningioma_tumor', 'meningioma_tumor', 'meningioma_tumor', 'meningioma_tumor', 'meningioma_tumor', 'meningioma_tumor', 'meningioma_tumor', 'meningioma_tumor', 'meningioma_tumor', 'meningioma_tumor', 'meningioma_tumor', 'meningioma_tumor', 'meningioma_tumor', 'meningioma_tumor', 'meningioma_tumor', 'meningioma_tumor', 'meningioma_tumor', 'meningioma_tumor', 'meningioma_tumor', 'meningioma_tumor', 'meningioma_tumor', 'meningioma_tumor', 'meningioma_tumor', 'meningioma_tumor', 'meningioma_tumor', 'meningioma_tumor', 'meningioma_tumor', 'meningioma_tumor', 'meningioma_tumor', 'meningioma_tumor', 'meningioma_tumor', 'meningioma_tumor', 'meningioma_tumor', 'meningioma_tumor', 'meningioma_tumor', 'meningioma_tumor', 'meningioma_tumor', 'meningioma_tumor', 'meningioma_tumor', 'meningioma_tumor', 'meningioma_tumor', 'meningioma_tumor', 'meningioma_tumor', 'meningioma_tumor', 'meningioma_tumor', 'meningioma_tumor', 'meningioma_tumor', 'meningioma_tumor', 'meningioma_tumor', 'meningioma_tumor', 'meningioma_tumor', 'meningioma_tumor', 'meningioma_tumor', 'meningioma_tumor', 'meningioma_tumor', 'meningioma_tumor', 'meningioma_tumor', 'meningioma_tumor', 'meningioma_tumor', 'meningioma_tumor', 'meningioma_tumor', 'meningioma_tumor', 'meningioma_tumor', 'meningioma_tumor', 'meningioma_tumor', 'meningioma_tumor', 'meningioma_tumor', 'meningioma_tumor', 'meningioma_tumor', 'meningioma_tumor', 'meningioma_tumor', 'meningioma_tumor', 'meningioma_tumor', 'meningioma_tumor', 'meningioma_tumor', 'meningioma_tumor', 'meningioma_tumor', 'meningioma_tumor', 'meningioma_tumor', 'meningioma_tumor', 'meningioma_tumor', 'meningioma_tumor', 'meningioma_tumor', 'meningioma_tumor', 'meningioma_tumor', 'meningioma_tumor', 'meningioma_tumor', 'meningioma_tumor', 'meningioma_tumor', 'meningioma_tumor', 'meningioma_tumor', 'meningioma_tumor', 'meningioma_tumor', 'meningioma_tumor', 'meningioma_tumor', 'meningioma_tumor', 'meningioma_tumor', 'meningioma_tumor', 'meningioma_tumor', 'meningioma_tumor', 'meningioma_tumor', 'meningioma_tumor', 'meningioma_tumor', 'meningioma_tumor', 'meningioma_tumor', 'meningioma_tumor', 'meningioma_tumor', 'meningioma_tumor', 'meningioma_tumor', 'meningioma_tumor', 'meningioma_tumor', 'meningioma_tumor', 'meningioma_tumor', 'meningioma_tumor', 'meningioma_tumor', 'meningioma_tumor', 'meningioma_tumor', 'meningioma_tumor', 'meningioma_tumor', 'meningioma_tumor', 'meningioma_tumor', 'meningioma_tumor', 'meningioma_tumor', 'meningioma_tumor', 'meningioma_tumor', 'meningioma_tumor', 'meningioma_tumor', 'meningioma_tumor', 'meningioma_tumor', 'meningioma_tumor', 'meningioma_tumor', 'meningioma_tumor', 'meningioma_tumor', 'meningioma_tumor', 'meningioma_tumor', 'meningioma_tumor', 'meningioma_tumor', 'meningioma_tumor', 'meningioma_tumor', 'meningioma_tumor', 'meningioma_tumor', 'meningioma_tumor', 'meningioma_tumor', 'meningioma_tumor', 'meningioma_tumor', 'meningioma_tumor', 'meningioma_tumor', 'meningioma_tumor', 'meningioma_tumor', 'meningioma_tumor', 'meningioma_tumor', 'meningioma_tumor', 'meningioma_tumor', 'meningioma_tumor', 'meningioma_tumor', 'meningioma_tumor', 'meningioma_tumor', 'meningioma_tumor', 'meningioma_tumor', 'meningioma_tumor', 'meningioma_tumor', 'meningioma_tumor', 'meningioma_tumor', 'meningioma_tumor', 'meningioma_tumor', 'meningioma_tumor', 'meningioma_tumor', 'meningioma_tumor', 'meningioma_tumor', 'meningioma_tumor', 'meningioma_tumor', 'meningioma_tumor', 'meningioma_tumor', 'meningioma_tumor', 'meningioma_tumor', 'meningioma_tumor', 'meningioma_tumor', 'meningioma_tumor', 'meningioma_tumor', 'meningioma_tumor', 'meningioma_tumor', 'meningioma_tumor', 'meningioma_tumor', 'meningioma_tumor', 'meningioma_tumor', 'meningioma_tumor', 'meningioma_tumor', 'meningioma_tumor', 'meningioma_tumor', 'meningioma_tumor', 'meningioma_tumor', 'meningioma_tumor', 'meningioma_tumor', 'meningioma_tumor', 'meningioma_tumor', 'meningioma_tumor', 'meningioma_tumor', 'meningioma_tumor', 'meningioma_tumor', 'meningioma_tumor', 'meningioma_tumor', 'meningioma_tumor', 'meningioma_tumor', 'meningioma_tumor', 'meningioma_tumor', 'meningioma_tumor', 'meningioma_tumor', 'meningioma_tumor', 'meningioma_tumor', 'meningioma_tumor', 'meningioma_tumor', 'meningioma_tumor', 'meningioma_tumor', 'meningioma_tumor', 'meningioma_tumor', 'meningioma_tumor', 'meningioma_tumor', 'meningioma_tumor', 'meningioma_tumor', 'meningioma_tumor', 'meningioma_tumor', 'meningioma_tumor', 'meningioma_tumor', 'meningioma_tumor', 'meningioma_tumor', 'meningioma_tumor', 'meningioma_tumor', 'meningioma_tumor', 'meningioma_tumor', 'meningioma_tumor', 'meningioma_tumor', 'meningioma_tumor', 'meningioma_tumor', 'meningioma_tumor', 'meningioma_tumor', 'meningioma_tumor', 'meningioma_tumor', 'meningioma_tumor', 'meningioma_tumor', 'meningioma_tumor', 'meningioma_tumor', 'meningioma_tumor', 'meningioma_tumor', 'meningioma_tumor', 'meningioma_tumor', 'meningioma_tumor', 'meningioma_tumor', 'meningioma_tumor', 'meningioma_tumor', 'meningioma_tumor', 'meningioma_tumor', 'meningioma_tumor', 'meningioma_tumor', 'meningioma_tumor', 'meningioma_tumor', 'meningioma_tumor', 'meningioma_tumor', 'meningioma_tumor', 'meningioma_tumor', 'meningioma_tumor', 'meningioma_tumor', 'meningioma_tumor', 'meningioma_tumor', 'meningioma_tumor', 'meningioma_tumor', 'meningioma_tumor', 'meningioma_tumor', 'meningioma_tumor', 'meningioma_tumor', 'meningioma_tumor', 'meningioma_tumor', 'meningioma_tumor', 'meningioma_tumor', 'meningioma_tumor', 'meningioma_tumor', 'meningioma_tumor', 'meningioma_tumor', 'meningioma_tumor', 'meningioma_tumor', 'meningioma_tumor', 'meningioma_tumor', 'meningioma_tumor', 'meningioma_tumor', 'meningioma_tumor', 'meningioma_tumor', 'meningioma_tumor', 'meningioma_tumor', 'meningioma_tumor', 'meningioma_tumor', 'meningioma_tumor', 'meningioma_tumor', 'meningioma_tumor', 'meningioma_tumor', 'meningioma_tumor', 'meningioma_tumor', 'meningioma_tumor', 'meningioma_tumor', 'meningioma_tumor', 'meningioma_tumor', 'meningioma_tumor', 'meningioma_tumor', 'meningioma_tumor', 'meningioma_tumor', 'meningioma_tumor', 'meningioma_tumor', 'meningioma_tumor', 'meningioma_tumor', 'meningioma_tumor', 'meningioma_tumor', 'meningioma_tumor', 'meningioma_tumor', 'meningioma_tumor', 'meningioma_tumor', 'meningioma_tumor', 'meningioma_tumor', 'meningioma_tumor', 'meningioma_tumor', 'meningioma_tumor', 'meningioma_tumor', 'meningioma_tumor', 'meningioma_tumor', 'meningioma_tumor', 'meningioma_tumor', 'meningioma_tumor', 'meningioma_tumor', 'meningioma_tumor', 'meningioma_tumor', 'meningioma_tumor', 'meningioma_tumor', 'meningioma_tumor', 'meningioma_tumor', 'meningioma_tumor', 'meningioma_tumor', 'meningioma_tumor', 'meningioma_tumor', 'meningioma_tumor', 'meningioma_tumor', 'meningioma_tumor', 'meningioma_tumor', 'meningioma_tumor', 'meningioma_tumor', 'meningioma_tumor', 'meningioma_tumor', 'meningioma_tumor', 'meningioma_tumor', 'meningioma_tumor', 'meningioma_tumor', 'meningioma_tumor', 'meningioma_tumor', 'meningioma_tumor', 'meningioma_tumor', 'meningioma_tumor', 'meningioma_tumor', 'meningioma_tumor', 'meningioma_tumor', 'meningioma_tumor', 'meningioma_tumor', 'meningioma_tumor', 'meningioma_tumor', 'meningioma_tumor', 'meningioma_tumor', 'meningioma_tumor', 'meningioma_tumor', 'meningioma_tumor', 'meningioma_tumor', 'meningioma_tumor', 'meningioma_tumor', 'meningioma_tumor', 'meningioma_tumor', 'meningioma_tumor', 'meningioma_tumor', 'meningioma_tumor', 'meningioma_tumor', 'meningioma_tumor', 'meningioma_tumor', 'meningioma_tumor', 'meningioma_tumor', 'meningioma_tumor', 'meningioma_tumor', 'meningioma_tumor', 'meningioma_tumor', 'meningioma_tumor', 'meningioma_tumor', 'meningioma_tumor', 'meningioma_tumor', 'meningioma_tumor', 'meningioma_tumor', 'meningioma_tumor', 'meningioma_tumor', 'meningioma_tumor', 'meningioma_tumor', 'meningioma_tumor', 'meningioma_tumor', 'meningioma_tumor', 'meningioma_tumor', 'meningioma_tumor', 'meningioma_tumor', 'meningioma_tumor', 'meningioma_tumor', 'meningioma_tumor', 'meningioma_tumor', 'meningioma_tumor', 'meningioma_tumor', 'meningioma_tumor', 'meningioma_tumor', 'meningioma_tumor', 'meningioma_tumor', 'meningioma_tumor', 'meningioma_tumor', 'meningioma_tumor', 'meningioma_tumor', 'meningioma_tumor', 'meningioma_tumor', 'meningioma_tumor', 'meningioma_tumor', 'meningioma_tumor', 'meningioma_tumor', 'meningioma_tumor', 'meningioma_tumor', 'meningioma_tumor', 'meningioma_tumor', 'meningioma_tumor', 'meningioma_tumor', 'meningioma_tumor', 'meningioma_tumor', 'meningioma_tumor', 'meningioma_tumor', 'meningioma_tumor', 'meningioma_tumor', 'meningioma_tumor', 'meningioma_tumor', 'meningioma_tumor', 'meningioma_tumor', 'meningioma_tumor', 'meningioma_tumor', 'meningioma_tumor', 'meningioma_tumor', 'meningioma_tumor', 'meningioma_tumor', 'meningioma_tumor', 'meningioma_tumor', 'meningioma_tumor', 'meningioma_tumor', 'meningioma_tumor', 'meningioma_tumor', 'meningioma_tumor', 'meningioma_tumor', 'meningioma_tumor', 'meningioma_tumor', 'meningioma_tumor', 'meningioma_tumor', 'meningioma_tumor', 'meningioma_tumor', 'meningioma_tumor', 'meningioma_tumor', 'meningioma_tumor', 'meningioma_tumor', 'meningioma_tumor', 'meningioma_tumor', 'meningioma_tumor', 'meningioma_tumor', 'meningioma_tumor', 'meningioma_tumor', 'meningioma_tumor', 'meningioma_tumor', 'meningioma_tumor', 'meningioma_tumor', 'meningioma_tumor', 'meningioma_tumor', 'meningioma_tumor', 'meningioma_tumor', 'meningioma_tumor', 'meningioma_tumor', 'meningioma_tumor', 'meningioma_tumor', 'meningioma_tumor', 'meningioma_tumor', 'meningioma_tumor', 'meningioma_tumor', 'meningioma_tumor', 'meningioma_tumor', 'meningioma_tumor', 'meningioma_tumor', 'meningioma_tumor', 'meningioma_tumor', 'meningioma_tumor', 'meningioma_tumor', 'meningioma_tumor', 'meningioma_tumor', 'meningioma_tumor', 'meningioma_tumor', 'meningioma_tumor', 'meningioma_tumor', 'meningioma_tumor', 'meningioma_tumor', 'meningioma_tumor', 'meningioma_tumor', 'meningioma_tumor', 'meningioma_tumor', 'meningioma_tumor', 'meningioma_tumor', 'meningioma_tumor', 'meningioma_tumor', 'meningioma_tumor', 'meningioma_tumor', 'meningioma_tumor', 'meningioma_tumor', 'meningioma_tumor', 'meningioma_tumor', 'meningioma_tumor', 'meningioma_tumor', 'meningioma_tumor', 'meningioma_tumor', 'meningioma_tumor', 'meningioma_tumor', 'meningioma_tumor', 'meningioma_tumor', 'meningioma_tumor', 'meningioma_tumor', 'meningioma_tumor', 'meningioma_tumor', 'meningioma_tumor', 'meningioma_tumor', 'meningioma_tumor', 'meningioma_tumor', 'meningioma_tumor', 'meningioma_tumor', 'meningioma_tumor', 'meningioma_tumor', 'meningioma_tumor', 'meningioma_tumor', 'meningioma_tumor', 'meningioma_tumor', 'meningioma_tumor', 'meningioma_tumor', 'meningioma_tumor', 'meningioma_tumor', 'meningioma_tumor', 'meningioma_tumor', 'meningioma_tumor', 'meningioma_tumor', 'meningioma_tumor', 'meningioma_tumor', 'meningioma_tumor', 'meningioma_tumor', 'meningioma_tumor', 'meningioma_tumor', 'meningioma_tumor', 'meningioma_tumor', 'meningioma_tumor', 'meningioma_tumor', 'meningioma_tumor', 'meningioma_tumor', 'meningioma_tumor', 'meningioma_tumor', 'meningioma_tumor', 'meningioma_tumor', 'meningioma_tumor', 'meningioma_tumor', 'meningioma_tumor', 'meningioma_tumor', 'meningioma_tumor', 'meningioma_tumor', 'meningioma_tumor', 'meningioma_tumor', 'meningioma_tumor', 'meningioma_tumor', 'meningioma_tumor', 'meningioma_tumor', 'meningioma_tumor', 'meningioma_tumor', 'meningioma_tumor', 'meningioma_tumor', 'meningioma_tumor', 'meningioma_tumor', 'meningioma_tumor', 'meningioma_tumor', 'meningioma_tumor', 'meningioma_tumor', 'meningioma_tumor', 'meningioma_tumor', 'meningioma_tumor', 'meningioma_tumor', 'meningioma_tumor', 'meningioma_tumor', 'meningioma_tumor', 'meningioma_tumor', 'meningioma_tumor', 'meningioma_tumor', 'meningioma_tumor', 'meningioma_tumor', 'meningioma_tumor', 'meningioma_tumor', 'meningioma_tumor', 'meningioma_tumor', 'meningioma_tumor', 'meningioma_tumor', 'meningioma_tumor', 'meningioma_tumor', 'meningioma_tumor', 'meningioma_tumor', 'meningioma_tumor', 'meningioma_tumor', 'meningioma_tumor', 'meningioma_tumor', 'meningioma_tumor', 'meningioma_tumor', 'meningioma_tumor', 'meningioma_tumor', 'meningioma_tumor', 'meningioma_tumor', 'meningioma_tumor', 'meningioma_tumor', 'meningioma_tumor', 'meningioma_tumor', 'meningioma_tumor', 'meningioma_tumor', 'meningioma_tumor', 'meningioma_tumor', 'meningioma_tumor', 'meningioma_tumor', 'meningioma_tumor', 'meningioma_tumor', 'meningioma_tumor', 'meningioma_tumor', 'meningioma_tumor', 'meningioma_tumor', 'meningioma_tumor', 'meningioma_tumor', 'meningioma_tumor', 'meningioma_tumor', 'meningioma_tumor', 'meningioma_tumor', 'meningioma_tumor', 'meningioma_tumor', 'meningioma_tumor', 'meningioma_tumor', 'meningioma_tumor', 'meningioma_tumor', 'meningioma_tumor', 'meningioma_tumor', 'meningioma_tumor', 'meningioma_tumor', 'meningioma_tumor', 'meningioma_tumor', 'meningioma_tumor', 'meningioma_tumor', 'meningioma_tumor', 'meningioma_tumor', 'meningioma_tumor', 'meningioma_tumor', 'meningioma_tumor', 'meningioma_tumor', 'meningioma_tumor', 'meningioma_tumor', 'meningioma_tumor', 'meningioma_tumor', 'meningioma_tumor', 'meningioma_tumor', 'meningioma_tumor', 'meningioma_tumor', 'meningioma_tumor', 'meningioma_tumor', 'meningioma_tumor', 'meningioma_tumor', 'meningioma_tumor', 'meningioma_tumor', 'meningioma_tumor', 'meningioma_tumor', 'meningioma_tumor', 'meningioma_tumor', 'meningioma_tumor', 'meningioma_tumor', 'meningioma_tumor', 'meningioma_tumor', 'meningioma_tumor', 'meningioma_tumor', 'meningioma_tumor', 'meningioma_tumor', 'meningioma_tumor', 'meningioma_tumor', 'meningioma_tumor', 'meningioma_tumor', 'meningioma_tumor', 'meningioma_tumor', 'meningioma_tumor', 'meningioma_tumor', 'meningioma_tumor', 'meningioma_tumor', 'meningioma_tumor', 'meningioma_tumor', 'meningioma_tumor', 'meningioma_tumor', 'meningioma_tumor', 'meningioma_tumor', 'meningioma_tumor', 'meningioma_tumor', 'meningioma_tumor', 'meningioma_tumor', 'meningioma_tumor', 'meningioma_tumor', 'meningioma_tumor', 'meningioma_tumor', 'meningioma_tumor', 'meningioma_tumor', 'meningioma_tumor', 'meningioma_tumor', 'meningioma_tumor', 'meningioma_tumor', 'meningioma_tumor', 'meningioma_tumor', 'meningioma_tumor', 'meningioma_tumor', 'meningioma_tumor', 'meningioma_tumor', 'meningioma_tumor', 'meningioma_tumor', 'meningioma_tumor', 'meningioma_tumor', 'meningioma_tumor', 'meningioma_tumor', 'meningioma_tumor', 'meningioma_tumor', 'meningioma_tumor', 'meningioma_tumor', 'meningioma_tumor', 'meningioma_tumor', 'meningioma_tumor', 'meningioma_tumor', 'meningioma_tumor', 'meningioma_tumor', 'meningioma_tumor', 'meningioma_tumor', 'meningioma_tumor', 'meningioma_tumor', 'meningioma_tumor', 'meningioma_tumor', 'meningioma_tumor', 'meningioma_tumor', 'meningioma_tumor', 'meningioma_tumor', 'meningioma_tumor', 'meningioma_tumor', 'meningioma_tumor', 'meningioma_tumor', 'meningioma_tumor', 'meningioma_tumor', 'meningioma_tumor', 'meningioma_tumor', 'meningioma_tumor', 'meningioma_tumor', 'meningioma_tumor', 'meningioma_tumor', 'meningioma_tumor', 'meningioma_tumor', 'meningioma_tumor', 'meningioma_tumor', 'no_tumor', 'no_tumor', 'no_tumor', 'no_tumor', 'no_tumor', 'no_tumor', 'no_tumor', 'no_tumor', 'no_tumor', 'no_tumor', 'no_tumor', 'no_tumor', 'no_tumor', 'no_tumor', 'no_tumor', 'no_tumor', 'no_tumor', 'no_tumor', 'no_tumor', 'no_tumor', 'no_tumor', 'no_tumor', 'no_tumor', 'no_tumor', 'no_tumor', 'no_tumor', 'no_tumor', 'no_tumor', 'no_tumor', 'no_tumor', 'no_tumor', 'no_tumor', 'no_tumor', 'no_tumor', 'no_tumor', 'no_tumor', 'no_tumor', 'no_tumor', 'no_tumor', 'no_tumor', 'no_tumor', 'no_tumor', 'no_tumor', 'no_tumor', 'no_tumor', 'no_tumor', 'no_tumor', 'no_tumor', 'no_tumor', 'no_tumor', 'no_tumor', 'no_tumor', 'no_tumor', 'no_tumor', 'no_tumor', 'no_tumor', 'no_tumor', 'no_tumor', 'no_tumor', 'no_tumor', 'no_tumor', 'no_tumor', 'no_tumor', 'no_tumor', 'no_tumor', 'no_tumor', 'no_tumor', 'no_tumor', 'no_tumor', 'no_tumor', 'no_tumor', 'no_tumor', 'no_tumor', 'no_tumor', 'no_tumor', 'no_tumor', 'no_tumor', 'no_tumor', 'no_tumor', 'no_tumor', 'no_tumor', 'no_tumor', 'no_tumor', 'no_tumor', 'no_tumor', 'no_tumor', 'no_tumor', 'no_tumor', 'no_tumor', 'no_tumor', 'no_tumor', 'no_tumor', 'no_tumor', 'no_tumor', 'no_tumor', 'no_tumor', 'no_tumor', 'no_tumor', 'no_tumor', 'no_tumor', 'no_tumor', 'no_tumor', 'no_tumor', 'no_tumor', 'no_tumor', 'no_tumor', 'no_tumor', 'no_tumor', 'no_tumor', 'no_tumor', 'no_tumor', 'no_tumor', 'no_tumor', 'no_tumor', 'no_tumor', 'no_tumor', 'no_tumor', 'no_tumor', 'no_tumor', 'no_tumor', 'no_tumor', 'no_tumor', 'no_tumor', 'no_tumor', 'no_tumor', 'no_tumor', 'no_tumor', 'no_tumor', 'no_tumor', 'no_tumor', 'no_tumor', 'no_tumor', 'no_tumor', 'no_tumor', 'no_tumor', 'no_tumor', 'no_tumor', 'no_tumor', 'no_tumor', 'no_tumor', 'no_tumor', 'no_tumor', 'no_tumor', 'no_tumor', 'no_tumor', 'no_tumor', 'no_tumor', 'no_tumor', 'no_tumor', 'no_tumor', 'no_tumor', 'no_tumor', 'no_tumor', 'no_tumor', 'no_tumor', 'no_tumor', 'no_tumor', 'no_tumor', 'no_tumor', 'no_tumor', 'no_tumor', 'no_tumor', 'no_tumor', 'no_tumor', 'no_tumor', 'no_tumor', 'no_tumor', 'no_tumor', 'no_tumor', 'no_tumor', 'no_tumor', 'no_tumor', 'no_tumor', 'no_tumor', 'no_tumor', 'no_tumor', 'no_tumor', 'no_tumor', 'no_tumor', 'no_tumor', 'no_tumor', 'no_tumor', 'no_tumor', 'no_tumor', 'no_tumor', 'no_tumor', 'no_tumor', 'no_tumor', 'no_tumor', 'no_tumor', 'no_tumor', 'no_tumor', 'no_tumor', 'no_tumor', 'no_tumor', 'no_tumor', 'no_tumor', 'no_tumor', 'no_tumor', 'no_tumor', 'no_tumor', 'no_tumor', 'no_tumor', 'no_tumor', 'no_tumor', 'no_tumor', 'no_tumor', 'no_tumor', 'no_tumor', 'no_tumor', 'no_tumor', 'no_tumor', 'no_tumor', 'no_tumor', 'no_tumor', 'no_tumor', 'no_tumor', 'no_tumor', 'no_tumor', 'no_tumor', 'no_tumor', 'no_tumor', 'no_tumor', 'no_tumor', 'no_tumor', 'no_tumor', 'no_tumor', 'no_tumor', 'no_tumor', 'no_tumor', 'no_tumor', 'no_tumor', 'no_tumor', 'no_tumor', 'no_tumor', 'no_tumor', 'no_tumor', 'no_tumor', 'no_tumor', 'no_tumor', 'no_tumor', 'no_tumor', 'no_tumor', 'no_tumor', 'no_tumor', 'no_tumor', 'no_tumor', 'no_tumor', 'no_tumor', 'no_tumor', 'no_tumor', 'no_tumor', 'no_tumor', 'no_tumor', 'no_tumor', 'no_tumor', 'no_tumor', 'no_tumor', 'no_tumor', 'no_tumor', 'no_tumor', 'no_tumor', 'no_tumor', 'no_tumor', 'no_tumor', 'no_tumor', 'no_tumor', 'no_tumor', 'no_tumor', 'no_tumor', 'no_tumor', 'no_tumor', 'no_tumor', 'no_tumor', 'no_tumor', 'no_tumor', 'no_tumor', 'no_tumor', 'no_tumor', 'no_tumor', 'no_tumor', 'no_tumor', 'no_tumor', 'no_tumor', 'no_tumor', 'no_tumor', 'no_tumor', 'no_tumor', 'no_tumor', 'no_tumor', 'no_tumor', 'no_tumor', 'no_tumor', 'no_tumor', 'no_tumor', 'no_tumor', 'no_tumor', 'no_tumor', 'no_tumor', 'no_tumor', 'no_tumor', 'no_tumor', 'no_tumor', 'no_tumor', 'no_tumor', 'no_tumor', 'no_tumor', 'no_tumor', 'no_tumor', 'no_tumor', 'no_tumor', 'no_tumor', 'no_tumor', 'no_tumor', 'no_tumor', 'no_tumor', 'no_tumor', 'no_tumor', 'no_tumor', 'no_tumor', 'no_tumor', 'no_tumor', 'no_tumor', 'no_tumor', 'no_tumor', 'no_tumor', 'no_tumor', 'no_tumor', 'no_tumor', 'no_tumor', 'no_tumor', 'no_tumor', 'no_tumor', 'no_tumor', 'no_tumor', 'no_tumor', 'no_tumor', 'no_tumor', 'no_tumor', 'no_tumor', 'no_tumor', 'no_tumor', 'no_tumor', 'no_tumor', 'no_tumor', 'no_tumor', 'no_tumor', 'no_tumor', 'no_tumor', 'no_tumor', 'no_tumor', 'no_tumor', 'no_tumor', 'no_tumor', 'no_tumor', 'no_tumor', 'no_tumor', 'no_tumor', 'no_tumor', 'no_tumor', 'no_tumor', 'no_tumor', 'no_tumor', 'no_tumor', 'no_tumor', 'no_tumor', 'no_tumor', 'no_tumor', 'no_tumor', 'no_tumor', 'no_tumor', 'no_tumor', 'no_tumor', 'no_tumor', 'no_tumor', 'no_tumor', 'no_tumor', 'no_tumor', 'no_tumor', 'no_tumor', 'no_tumor', 'no_tumor', 'no_tumor', 'no_tumor', 'no_tumor', 'no_tumor', 'no_tumor', 'no_tumor', 'no_tumor', 'no_tumor', 'no_tumor', 'no_tumor', 'no_tumor', 'no_tumor', 'no_tumor', 'pituitary_tumor', 'pituitary_tumor', 'pituitary_tumor', 'pituitary_tumor', 'pituitary_tumor', 'pituitary_tumor', 'pituitary_tumor', 'pituitary_tumor', 'pituitary_tumor', 'pituitary_tumor', 'pituitary_tumor', 'pituitary_tumor', 'pituitary_tumor', 'pituitary_tumor', 'pituitary_tumor', 'pituitary_tumor', 'pituitary_tumor', 'pituitary_tumor', 'pituitary_tumor', 'pituitary_tumor', 'pituitary_tumor', 'pituitary_tumor', 'pituitary_tumor', 'pituitary_tumor', 'pituitary_tumor', 'pituitary_tumor', 'pituitary_tumor', 'pituitary_tumor', 'pituitary_tumor', 'pituitary_tumor', 'pituitary_tumor', 'pituitary_tumor', 'pituitary_tumor', 'pituitary_tumor', 'pituitary_tumor', 'pituitary_tumor', 'pituitary_tumor', 'pituitary_tumor', 'pituitary_tumor', 'pituitary_tumor', 'pituitary_tumor', 'pituitary_tumor', 'pituitary_tumor', 'pituitary_tumor', 'pituitary_tumor', 'pituitary_tumor', 'pituitary_tumor', 'pituitary_tumor', 'pituitary_tumor', 'pituitary_tumor', 'pituitary_tumor', 'pituitary_tumor', 'pituitary_tumor', 'pituitary_tumor', 'pituitary_tumor', 'pituitary_tumor', 'pituitary_tumor', 'pituitary_tumor', 'pituitary_tumor', 'pituitary_tumor', 'pituitary_tumor', 'pituitary_tumor', 'pituitary_tumor', 'pituitary_tumor', 'pituitary_tumor', 'pituitary_tumor', 'pituitary_tumor', 'pituitary_tumor', 'pituitary_tumor', 'pituitary_tumor', 'pituitary_tumor', 'pituitary_tumor', 'pituitary_tumor', 'pituitary_tumor', 'pituitary_tumor', 'pituitary_tumor', 'pituitary_tumor', 'pituitary_tumor', 'pituitary_tumor', 'pituitary_tumor', 'pituitary_tumor', 'pituitary_tumor', 'pituitary_tumor', 'pituitary_tumor', 'pituitary_tumor', 'pituitary_tumor', 'pituitary_tumor', 'pituitary_tumor', 'pituitary_tumor', 'pituitary_tumor', 'pituitary_tumor', 'pituitary_tumor', 'pituitary_tumor', 'pituitary_tumor', 'pituitary_tumor', 'pituitary_tumor', 'pituitary_tumor', 'pituitary_tumor', 'pituitary_tumor', 'pituitary_tumor', 'pituitary_tumor', 'pituitary_tumor', 'pituitary_tumor', 'pituitary_tumor', 'pituitary_tumor', 'pituitary_tumor', 'pituitary_tumor', 'pituitary_tumor', 'pituitary_tumor', 'pituitary_tumor', 'pituitary_tumor', 'pituitary_tumor', 'pituitary_tumor', 'pituitary_tumor', 'pituitary_tumor', 'pituitary_tumor', 'pituitary_tumor', 'pituitary_tumor', 'pituitary_tumor', 'pituitary_tumor', 'pituitary_tumor', 'pituitary_tumor', 'pituitary_tumor', 'pituitary_tumor', 'pituitary_tumor', 'pituitary_tumor', 'pituitary_tumor', 'pituitary_tumor', 'pituitary_tumor', 'pituitary_tumor', 'pituitary_tumor', 'pituitary_tumor', 'pituitary_tumor', 'pituitary_tumor', 'pituitary_tumor', 'pituitary_tumor', 'pituitary_tumor', 'pituitary_tumor', 'pituitary_tumor', 'pituitary_tumor', 'pituitary_tumor', 'pituitary_tumor', 'pituitary_tumor', 'pituitary_tumor', 'pituitary_tumor', 'pituitary_tumor', 'pituitary_tumor', 'pituitary_tumor', 'pituitary_tumor', 'pituitary_tumor', 'pituitary_tumor', 'pituitary_tumor', 'pituitary_tumor', 'pituitary_tumor', 'pituitary_tumor', 'pituitary_tumor', 'pituitary_tumor', 'pituitary_tumor', 'pituitary_tumor', 'pituitary_tumor', 'pituitary_tumor', 'pituitary_tumor', 'pituitary_tumor', 'pituitary_tumor', 'pituitary_tumor', 'pituitary_tumor', 'pituitary_tumor', 'pituitary_tumor', 'pituitary_tumor', 'pituitary_tumor', 'pituitary_tumor', 'pituitary_tumor', 'pituitary_tumor', 'pituitary_tumor', 'pituitary_tumor', 'pituitary_tumor', 'pituitary_tumor', 'pituitary_tumor', 'pituitary_tumor', 'pituitary_tumor', 'pituitary_tumor', 'pituitary_tumor', 'pituitary_tumor', 'pituitary_tumor', 'pituitary_tumor', 'pituitary_tumor', 'pituitary_tumor', 'pituitary_tumor', 'pituitary_tumor', 'pituitary_tumor', 'pituitary_tumor', 'pituitary_tumor', 'pituitary_tumor', 'pituitary_tumor', 'pituitary_tumor', 'pituitary_tumor', 'pituitary_tumor', 'pituitary_tumor', 'pituitary_tumor', 'pituitary_tumor', 'pituitary_tumor', 'pituitary_tumor', 'pituitary_tumor', 'pituitary_tumor', 'pituitary_tumor', 'pituitary_tumor', 'pituitary_tumor', 'pituitary_tumor', 'pituitary_tumor', 'pituitary_tumor', 'pituitary_tumor', 'pituitary_tumor', 'pituitary_tumor', 'pituitary_tumor', 'pituitary_tumor', 'pituitary_tumor', 'pituitary_tumor', 'pituitary_tumor', 'pituitary_tumor', 'pituitary_tumor', 'pituitary_tumor', 'pituitary_tumor', 'pituitary_tumor', 'pituitary_tumor', 'pituitary_tumor', 'pituitary_tumor', 'pituitary_tumor', 'pituitary_tumor', 'pituitary_tumor', 'pituitary_tumor', 'pituitary_tumor', 'pituitary_tumor', 'pituitary_tumor', 'pituitary_tumor', 'pituitary_tumor', 'pituitary_tumor', 'pituitary_tumor', 'pituitary_tumor', 'pituitary_tumor', 'pituitary_tumor', 'pituitary_tumor', 'pituitary_tumor', 'pituitary_tumor', 'pituitary_tumor', 'pituitary_tumor', 'pituitary_tumor', 'pituitary_tumor', 'pituitary_tumor', 'pituitary_tumor', 'pituitary_tumor', 'pituitary_tumor', 'pituitary_tumor', 'pituitary_tumor', 'pituitary_tumor', 'pituitary_tumor', 'pituitary_tumor', 'pituitary_tumor', 'pituitary_tumor', 'pituitary_tumor', 'pituitary_tumor', 'pituitary_tumor', 'pituitary_tumor', 'pituitary_tumor', 'pituitary_tumor', 'pituitary_tumor', 'pituitary_tumor', 'pituitary_tumor', 'pituitary_tumor', 'pituitary_tumor', 'pituitary_tumor', 'pituitary_tumor', 'pituitary_tumor', 'pituitary_tumor', 'pituitary_tumor', 'pituitary_tumor', 'pituitary_tumor', 'pituitary_tumor', 'pituitary_tumor', 'pituitary_tumor', 'pituitary_tumor', 'pituitary_tumor', 'pituitary_tumor', 'pituitary_tumor', 'pituitary_tumor', 'pituitary_tumor', 'pituitary_tumor', 'pituitary_tumor', 'pituitary_tumor', 'pituitary_tumor', 'pituitary_tumor', 'pituitary_tumor', 'pituitary_tumor', 'pituitary_tumor', 'pituitary_tumor', 'pituitary_tumor', 'pituitary_tumor', 'pituitary_tumor', 'pituitary_tumor', 'pituitary_tumor', 'pituitary_tumor', 'pituitary_tumor', 'pituitary_tumor', 'pituitary_tumor', 'pituitary_tumor', 'pituitary_tumor', 'pituitary_tumor', 'pituitary_tumor', 'pituitary_tumor', 'pituitary_tumor', 'pituitary_tumor', 'pituitary_tumor', 'pituitary_tumor', 'pituitary_tumor', 'pituitary_tumor', 'pituitary_tumor', 'pituitary_tumor', 'pituitary_tumor', 'pituitary_tumor', 'pituitary_tumor', 'pituitary_tumor', 'pituitary_tumor', 'pituitary_tumor', 'pituitary_tumor', 'pituitary_tumor', 'pituitary_tumor', 'pituitary_tumor', 'pituitary_tumor', 'pituitary_tumor', 'pituitary_tumor', 'pituitary_tumor', 'pituitary_tumor', 'pituitary_tumor', 'pituitary_tumor', 'pituitary_tumor', 'pituitary_tumor', 'pituitary_tumor', 'pituitary_tumor', 'pituitary_tumor', 'pituitary_tumor', 'pituitary_tumor', 'pituitary_tumor', 'pituitary_tumor', 'pituitary_tumor', 'pituitary_tumor', 'pituitary_tumor', 'pituitary_tumor', 'pituitary_tumor', 'pituitary_tumor', 'pituitary_tumor', 'pituitary_tumor', 'pituitary_tumor', 'pituitary_tumor', 'pituitary_tumor', 'pituitary_tumor', 'pituitary_tumor', 'pituitary_tumor', 'pituitary_tumor', 'pituitary_tumor', 'pituitary_tumor', 'pituitary_tumor', 'pituitary_tumor', 'pituitary_tumor', 'pituitary_tumor', 'pituitary_tumor', 'pituitary_tumor', 'pituitary_tumor', 'pituitary_tumor', 'pituitary_tumor', 'pituitary_tumor', 'pituitary_tumor', 'pituitary_tumor', 'pituitary_tumor', 'pituitary_tumor', 'pituitary_tumor', 'pituitary_tumor', 'pituitary_tumor', 'pituitary_tumor', 'pituitary_tumor', 'pituitary_tumor', 'pituitary_tumor', 'pituitary_tumor', 'pituitary_tumor', 'pituitary_tumor', 'pituitary_tumor', 'pituitary_tumor', 'pituitary_tumor', 'pituitary_tumor', 'pituitary_tumor', 'pituitary_tumor', 'pituitary_tumor', 'pituitary_tumor', 'pituitary_tumor', 'pituitary_tumor', 'pituitary_tumor', 'pituitary_tumor', 'pituitary_tumor', 'pituitary_tumor', 'pituitary_tumor', 'pituitary_tumor', 'pituitary_tumor', 'pituitary_tumor', 'pituitary_tumor', 'pituitary_tumor', 'pituitary_tumor', 'pituitary_tumor', 'pituitary_tumor', 'pituitary_tumor', 'pituitary_tumor', 'pituitary_tumor', 'pituitary_tumor', 'pituitary_tumor', 'pituitary_tumor', 'pituitary_tumor', 'pituitary_tumor', 'pituitary_tumor', 'pituitary_tumor', 'pituitary_tumor', 'pituitary_tumor', 'pituitary_tumor', 'pituitary_tumor', 'pituitary_tumor', 'pituitary_tumor', 'pituitary_tumor', 'pituitary_tumor', 'pituitary_tumor', 'pituitary_tumor', 'pituitary_tumor', 'pituitary_tumor', 'pituitary_tumor', 'pituitary_tumor', 'pituitary_tumor', 'pituitary_tumor', 'pituitary_tumor', 'pituitary_tumor', 'pituitary_tumor', 'pituitary_tumor', 'pituitary_tumor', 'pituitary_tumor', 'pituitary_tumor', 'pituitary_tumor', 'pituitary_tumor', 'pituitary_tumor', 'pituitary_tumor', 'pituitary_tumor', 'pituitary_tumor', 'pituitary_tumor', 'pituitary_tumor', 'pituitary_tumor', 'pituitary_tumor', 'pituitary_tumor', 'pituitary_tumor', 'pituitary_tumor', 'pituitary_tumor', 'pituitary_tumor', 'pituitary_tumor', 'pituitary_tumor', 'pituitary_tumor', 'pituitary_tumor', 'pituitary_tumor', 'pituitary_tumor', 'pituitary_tumor', 'pituitary_tumor', 'pituitary_tumor', 'pituitary_tumor', 'pituitary_tumor', 'pituitary_tumor', 'pituitary_tumor', 'pituitary_tumor', 'pituitary_tumor', 'pituitary_tumor', 'pituitary_tumor', 'pituitary_tumor', 'pituitary_tumor', 'pituitary_tumor', 'pituitary_tumor', 'pituitary_tumor', 'pituitary_tumor', 'pituitary_tumor', 'pituitary_tumor', 'pituitary_tumor', 'pituitary_tumor', 'pituitary_tumor', 'pituitary_tumor', 'pituitary_tumor', 'pituitary_tumor', 'pituitary_tumor', 'pituitary_tumor', 'pituitary_tumor', 'pituitary_tumor', 'pituitary_tumor', 'pituitary_tumor', 'pituitary_tumor', 'pituitary_tumor', 'pituitary_tumor', 'pituitary_tumor', 'pituitary_tumor', 'pituitary_tumor', 'pituitary_tumor', 'pituitary_tumor', 'pituitary_tumor', 'pituitary_tumor', 'pituitary_tumor', 'pituitary_tumor', 'pituitary_tumor', 'pituitary_tumor', 'pituitary_tumor', 'pituitary_tumor', 'pituitary_tumor', 'pituitary_tumor', 'pituitary_tumor', 'pituitary_tumor', 'pituitary_tumor', 'pituitary_tumor', 'pituitary_tumor', 'pituitary_tumor', 'pituitary_tumor', 'pituitary_tumor', 'pituitary_tumor', 'pituitary_tumor', 'pituitary_tumor', 'pituitary_tumor', 'pituitary_tumor', 'pituitary_tumor', 'pituitary_tumor', 'pituitary_tumor', 'pituitary_tumor', 'pituitary_tumor', 'pituitary_tumor', 'pituitary_tumor', 'pituitary_tumor', 'pituitary_tumor', 'pituitary_tumor', 'pituitary_tumor', 'pituitary_tumor', 'pituitary_tumor', 'pituitary_tumor', 'pituitary_tumor', 'pituitary_tumor', 'pituitary_tumor', 'pituitary_tumor', 'pituitary_tumor', 'pituitary_tumor', 'pituitary_tumor', 'pituitary_tumor', 'pituitary_tumor', 'pituitary_tumor', 'pituitary_tumor', 'pituitary_tumor', 'pituitary_tumor', 'pituitary_tumor', 'pituitary_tumor', 'pituitary_tumor', 'pituitary_tumor', 'pituitary_tumor', 'pituitary_tumor', 'pituitary_tumor', 'pituitary_tumor', 'pituitary_tumor', 'pituitary_tumor', 'pituitary_tumor', 'pituitary_tumor', 'pituitary_tumor', 'pituitary_tumor', 'pituitary_tumor', 'pituitary_tumor', 'pituitary_tumor', 'pituitary_tumor', 'pituitary_tumor', 'pituitary_tumor', 'pituitary_tumor', 'pituitary_tumor', 'pituitary_tumor', 'pituitary_tumor', 'pituitary_tumor', 'pituitary_tumor', 'pituitary_tumor', 'pituitary_tumor', 'pituitary_tumor', 'pituitary_tumor', 'pituitary_tumor', 'pituitary_tumor', 'pituitary_tumor', 'pituitary_tumor', 'pituitary_tumor', 'pituitary_tumor', 'pituitary_tumor', 'pituitary_tumor', 'pituitary_tumor', 'pituitary_tumor', 'pituitary_tumor', 'pituitary_tumor', 'pituitary_tumor', 'pituitary_tumor', 'pituitary_tumor', 'pituitary_tumor', 'pituitary_tumor', 'pituitary_tumor', 'pituitary_tumor', 'pituitary_tumor', 'pituitary_tumor', 'pituitary_tumor', 'pituitary_tumor', 'pituitary_tumor', 'pituitary_tumor', 'pituitary_tumor', 'pituitary_tumor', 'pituitary_tumor', 'pituitary_tumor', 'pituitary_tumor', 'pituitary_tumor', 'pituitary_tumor', 'pituitary_tumor', 'pituitary_tumor', 'pituitary_tumor', 'pituitary_tumor', 'pituitary_tumor', 'pituitary_tumor', 'pituitary_tumor', 'pituitary_tumor', 'pituitary_tumor', 'pituitary_tumor', 'pituitary_tumor', 'pituitary_tumor', 'pituitary_tumor', 'pituitary_tumor', 'pituitary_tumor', 'pituitary_tumor', 'pituitary_tumor', 'pituitary_tumor', 'pituitary_tumor', 'pituitary_tumor', 'pituitary_tumor', 'pituitary_tumor', 'pituitary_tumor', 'pituitary_tumor', 'pituitary_tumor', 'pituitary_tumor', 'pituitary_tumor', 'pituitary_tumor', 'pituitary_tumor', 'pituitary_tumor', 'pituitary_tumor', 'pituitary_tumor', 'pituitary_tumor', 'pituitary_tumor', 'pituitary_tumor', 'pituitary_tumor', 'pituitary_tumor', 'pituitary_tumor', 'pituitary_tumor', 'pituitary_tumor', 'pituitary_tumor', 'pituitary_tumor', 'pituitary_tumor', 'pituitary_tumor', 'pituitary_tumor', 'pituitary_tumor', 'pituitary_tumor', 'pituitary_tumor', 'pituitary_tumor', 'pituitary_tumor', 'pituitary_tumor', 'pituitary_tumor', 'pituitary_tumor', 'pituitary_tumor', 'pituitary_tumor', 'pituitary_tumor', 'pituitary_tumor', 'pituitary_tumor', 'pituitary_tumor', 'pituitary_tumor', 'pituitary_tumor', 'pituitary_tumor', 'pituitary_tumor', 'pituitary_tumor', 'pituitary_tumor', 'pituitary_tumor', 'pituitary_tumor', 'pituitary_tumor', 'pituitary_tumor', 'pituitary_tumor', 'pituitary_tumor', 'pituitary_tumor', 'pituitary_tumor', 'pituitary_tumor', 'pituitary_tumor', 'pituitary_tumor', 'pituitary_tumor', 'pituitary_tumor', 'pituitary_tumor', 'pituitary_tumor', 'pituitary_tumor', 'pituitary_tumor', 'pituitary_tumor', 'pituitary_tumor', 'pituitary_tumor', 'pituitary_tumor', 'pituitary_tumor', 'pituitary_tumor', 'pituitary_tumor', 'pituitary_tumor', 'pituitary_tumor', 'pituitary_tumor', 'pituitary_tumor', 'pituitary_tumor', 'pituitary_tumor', 'pituitary_tumor', 'pituitary_tumor', 'pituitary_tumor', 'pituitary_tumor', 'pituitary_tumor', 'pituitary_tumor', 'pituitary_tumor', 'pituitary_tumor', 'pituitary_tumor', 'pituitary_tumor', 'pituitary_tumor', 'pituitary_tumor', 'pituitary_tumor', 'pituitary_tumor', 'pituitary_tumor', 'pituitary_tumor', 'pituitary_tumor', 'pituitary_tumor', 'pituitary_tumor', 'pituitary_tumor', 'pituitary_tumor', 'pituitary_tumor', 'pituitary_tumor', 'pituitary_tumor', 'pituitary_tumor', 'pituitary_tumor', 'pituitary_tumor', 'pituitary_tumor', 'pituitary_tumor', 'pituitary_tumor', 'pituitary_tumor', 'pituitary_tumor', 'pituitary_tumor', 'pituitary_tumor', 'pituitary_tumor', 'pituitary_tumor', 'pituitary_tumor', 'pituitary_tumor', 'pituitary_tumor', 'pituitary_tumor', 'pituitary_tumor', 'pituitary_tumor', 'pituitary_tumor', 'pituitary_tumor', 'pituitary_tumor', 'pituitary_tumor', 'pituitary_tumor', 'pituitary_tumor', 'pituitary_tumor', 'pituitary_tumor', 'pituitary_tumor', 'pituitary_tumor', 'pituitary_tumor', 'pituitary_tumor', 'pituitary_tumor', 'pituitary_tumor', 'pituitary_tumor', 'pituitary_tumor', 'pituitary_tumor', 'pituitary_tumor', 'pituitary_tumor', 'pituitary_tumor', 'pituitary_tumor', 'pituitary_tumor', 'pituitary_tumor', 'pituitary_tumor', 'pituitary_tumor', 'pituitary_tumor', 'pituitary_tumor', 'pituitary_tumor', 'pituitary_tumor', 'pituitary_tumor', 'pituitary_tumor', 'pituitary_tumor', 'pituitary_tumor', 'pituitary_tumor', 'pituitary_tumor', 'pituitary_tumor', 'pituitary_tumor', 'pituitary_tumor', 'pituitary_tumor', 'pituitary_tumor', 'pituitary_tumor', 'pituitary_tumor', 'pituitary_tumor', 'pituitary_tumor', 'pituitary_tumor', 'pituitary_tumor', 'pituitary_tumor', 'pituitary_tumor', 'pituitary_tumor', 'pituitary_tumor', 'pituitary_tumor', 'pituitary_tumor', 'pituitary_tumor', 'pituitary_tumor', 'pituitary_tumor', 'pituitary_tumor', 'pituitary_tumor', 'pituitary_tumor', 'pituitary_tumor', 'pituitary_tumor', 'pituitary_tumor', 'pituitary_tumor', 'pituitary_tumor', 'pituitary_tumor', 'pituitary_tumor', 'pituitary_tumor', 'pituitary_tumor', 'pituitary_tumor', 'pituitary_tumor', 'pituitary_tumor', 'pituitary_tumor', 'pituitary_tumor', 'pituitary_tumor', 'pituitary_tumor', 'pituitary_tumor', 'pituitary_tumor', 'pituitary_tumor', 'pituitary_tumor', 'pituitary_tumor']\n"
          ]
        }
      ]
    },
    {
      "cell_type": "code",
      "source": [
        "%matplotlib inline\n",
        "import matplotlib.pyplot as plt\n",
        "plt.figure(figsize=(10, 10))\n",
        "for i in range(4):\n",
        "    plt.subplot(1, 4, i+1)\n",
        "    plt.imshow(X[i], cmap=\"gray\")\n",
        "    plt.axis('off')\n",
        "plt.show()"
      ],
      "metadata": {
        "colab": {
          "base_uri": "https://localhost:8080/",
          "height": 205
        },
        "id": "lAOvJ_XbgwHD",
        "outputId": "df49040d-3d00-47c5-9304-0c837bc6f9fc"
      },
      "execution_count": 9,
      "outputs": [
        {
          "output_type": "display_data",
          "data": {
            "text/plain": [
              "<Figure size 1000x1000 with 4 Axes>"
            ],
            "image/png": "[encoded data removed]"
          },
          "metadata": {}
        }
      ]
    },
    {
      "cell_type": "code",
      "source": [
        "X_train, X_test, y_train, y_test = train_test_split(X, y, test_size=0.33, random_state=42)\n",
        "print (\"Shape of an image in X_train: \", X_train[0].shape)\n",
        "print (\"Shape of an image in X_test: \", X_test[0].shape)\n"
      ],
      "metadata": {
        "colab": {
          "base_uri": "https://localhost:8080/"
        },
        "id": "vMWBO6xMg_Eg",
        "outputId": "fefa5227-c13f-4f97-bbb6-2ffa00364f4f"
      },
      "execution_count": 10,
      "outputs": [
        {
          "output_type": "stream",
          "name": "stdout",
          "text": [
            "Shape of an image in X_train:  (224, 224, 3)\n",
            "Shape of an image in X_test:  (224, 224, 3)\n"
          ]
        }
      ]
    },
    {
      "cell_type": "code",
      "source": [
        "le = preprocessing.LabelEncoder()\n",
        "y_train = le.fit_transform(y_train)\n",
        "y_test = le.fit_transform(y_test)\n",
        "y_train = tf.keras.utils.to_categorical(y_train, num_classes=4)\n",
        "y_test = tf.keras.utils.to_categorical(y_test, num_classes=4)\n",
        "y_train = np.array(y_train)\n",
        "X_train = np.array(X_train)\n",
        "y_test = np.array(y_test)\n",
        "X_test = np.array(X_test)"
      ],
      "metadata": {
        "id": "xRUYJsuVhTzF"
      },
      "execution_count": 12,
      "outputs": []
    },
    {
      "cell_type": "code",
      "source": [
        "print(\"X_train Shape: \", X_train.shape)\n",
        "print(\"X_test Shape: \", X_test.shape)\n",
        "print(\"y_train Shape: \", y_train.shape)\n",
        "print(\"y_test Shape: \", y_test.shape)"
      ],
      "metadata": {
        "colab": {
          "base_uri": "https://localhost:8080/"
        },
        "id": "1_8C_S1-hsPj",
        "outputId": "0acaf643-d760-4d90-98c7-b7ca7143074c"
      },
      "execution_count": 13,
      "outputs": [
        {
          "output_type": "stream",
          "name": "stdout",
          "text": [
            "X_train Shape:  (1922, 224, 224, 3)\n",
            "X_test Shape:  (948, 224, 224, 3)\n",
            "y_train Shape:  (1922, 4)\n",
            "y_test Shape:  (948, 4)\n"
          ]
        }
      ]
    },
    {
      "cell_type": "code",
      "source": [
        "from keras.applications import vgg16\n",
        "\n",
        "\n",
        "img_rows, img_cols = 224, 224\n",
        "\n",
        "\n",
        "vgg = vgg16.VGG16(weights = 'imagenet',\n",
        "                 include_top = False,\n",
        "                 input_shape = (img_rows, img_cols, 3))\n",
        "# Here we freeze the last 4 layers\n",
        "# Layers are set to trainable as True by default\n",
        "for layer in vgg.layers:\n",
        "    layer.trainable = False\n",
        "\n",
        "# Let's print our layers\n",
        "for (i,layer) in enumerate(vgg.layers):\n",
        "    print(str(i) + \" \"+ layer.__class__.__name__, layer.trainable)\n",
        ""
      ],
      "metadata": {
        "colab": {
          "base_uri": "https://localhost:8080/"
        },
        "id": "PSJA1-Lxhz6o",
        "outputId": "92baf37d-9d46-4748-f312-b14cda8a6efa"
      },
      "execution_count": 14,
      "outputs": [
        {
          "output_type": "stream",
          "name": "stdout",
          "text": [
            "Downloading data from https://storage.googleapis.com/tensorflow/keras-applications/vgg16/vgg16_weights_tf_dim_ordering_tf_kernels_notop.h5\n",
            "\u001b[1m58889256/58889256\u001b[0m \u001b[32m━━━━━━━━━━━━━━━━━━━━\u001b[0m\u001b[37m\u001b[0m \u001b[1m0s\u001b[0m 0us/step\n",
            "0 InputLayer False\n",
            "1 Conv2D False\n",
            "2 Conv2D False\n",
            "3 MaxPooling2D False\n",
            "4 Conv2D False\n",
            "5 Conv2D False\n",
            "6 MaxPooling2D False\n",
            "7 Conv2D False\n",
            "8 Conv2D False\n",
            "9 Conv2D False\n",
            "10 MaxPooling2D False\n",
            "11 Conv2D False\n",
            "12 Conv2D False\n",
            "13 Conv2D False\n",
            "14 MaxPooling2D False\n",
            "15 Conv2D False\n",
            "16 Conv2D False\n",
            "17 Conv2D False\n",
            "18 MaxPooling2D False\n"
          ]
        }
      ]
    },
    {
      "cell_type": "code",
      "source": [
        "def lw(bottom_model, num_classes):\n",
        "  \"\"\"creates the top or head of the model that will be\n",
        "  placed ontop of the bottom layers\"\"\"\n",
        "\n",
        "  top_model = bottom_model.output\n",
        "  top_model = GlobalAveragePooling2D()(top_model)\n",
        "  top_model = Dense(1024,activation='relu')(top_model)\n",
        "  top_model = Dense(1024,activation='relu')(top_model)\n",
        "  top_model = Dense(512,activation='relu')(top_model)\n",
        "  top_model = Dense(num_classes,activation='softmax')(top_model)\n",
        "  return top_model\n"
      ],
      "metadata": {
        "id": "Zd7sxFXxixo7"
      },
      "execution_count": 15,
      "outputs": []
    },
    {
      "cell_type": "code",
      "source": [
        "from keras.models import Sequential\n",
        "from keras.layers import Dense, Dropout, Activation, Flatten, GlobalAveragePooling2D\n",
        "from keras.layers import Conv2D, MaxPooling2D, ZeroPadding2D\n",
        "\n",
        "from keras.models import Model\n",
        "\n",
        "\n",
        "num_classes = 4\n",
        "\n",
        "FC_Head = lw(vgg, num_classes)\n",
        "\n",
        "model = Model(inputs = vgg.input, outputs = FC_Head)\n",
        "\n",
        "print(model.summary())"
      ],
      "metadata": {
        "colab": {
          "base_uri": "https://localhost:8080/",
          "height": 930
        },
        "id": "5DrbvRVbjlrV",
        "outputId": "15e80a91-ed04-413c-8da8-fc3244c17eba"
      },
      "execution_count": 16,
      "outputs": [
        {
          "output_type": "display_data",
          "data": {
            "text/plain": [
              "\u001b[1mModel: \"functional\"\u001b[0m\n"
            ],
            "text/html": [
              "<pre style=\"white-space:pre;overflow-x:auto;line-height:normal;font-family:Menlo,'DejaVu Sans Mono',consolas,'Courier New',monospace\"><span style=\"font-weight: bold\">Model: \"functional\"</span>\n",
              "</pre>\n"
            ]
          },
          "metadata": {}
        },
        {
          "output_type": "display_data",
          "data": {
            "text/plain": [
              "┏━━━━━━━━━━━━━━━━━━━━━━━━━━━━━━━━━━━━━━┳━━━━━━━━━━━━━━━━━━━━━━━━━━━━━┳━━━━━━━━━━━━━━━━━┓\n",
              "┃\u001b[1m \u001b[0m\u001b[1mLayer (type)                        \u001b[0m\u001b[1m \u001b[0m┃\u001b[1m \u001b[0m\u001b[1mOutput Shape               \u001b[0m\u001b[1m \u001b[0m┃\u001b[1m \u001b[0m\u001b[1m        Param #\u001b[0m\u001b[1m \u001b[0m┃\n",
              "┡━━━━━━━━━━━━━━━━━━━━━━━━━━━━━━━━━━━━━━╇━━━━━━━━━━━━━━━━━━━━━━━━━━━━━╇━━━━━━━━━━━━━━━━━┩\n",
              "│ input_layer (\u001b[38;5;33mInputLayer\u001b[0m)             │ (\u001b[38;5;45mNone\u001b[0m, \u001b[38;5;34m224\u001b[0m, \u001b[38;5;34m224\u001b[0m, \u001b[38;5;34m3\u001b[0m)         │               \u001b[38;5;34m0\u001b[0m │\n",
              "├──────────────────────────────────────┼─────────────────────────────┼─────────────────┤\n",
              "│ block1_conv1 (\u001b[38;5;33mConv2D\u001b[0m)                │ (\u001b[38;5;45mNone\u001b[0m, \u001b[38;5;34m224\u001b[0m, \u001b[38;5;34m224\u001b[0m, \u001b[38;5;34m64\u001b[0m)        │           \u001b[38;5;34m1,792\u001b[0m │\n",
              "├──────────────────────────────────────┼─────────────────────────────┼─────────────────┤\n",
              "│ block1_conv2 (\u001b[38;5;33mConv2D\u001b[0m)                │ (\u001b[38;5;45mNone\u001b[0m, \u001b[38;5;34m224\u001b[0m, \u001b[38;5;34m224\u001b[0m, \u001b[38;5;34m64\u001b[0m)        │          \u001b[38;5;34m36,928\u001b[0m │\n",
              "├──────────────────────────────────────┼─────────────────────────────┼─────────────────┤\n",
              "│ block1_pool (\u001b[38;5;33mMaxPooling2D\u001b[0m)           │ (\u001b[38;5;45mNone\u001b[0m, \u001b[38;5;34m112\u001b[0m, \u001b[38;5;34m112\u001b[0m, \u001b[38;5;34m64\u001b[0m)        │               \u001b[38;5;34m0\u001b[0m │\n",
              "├──────────────────────────────────────┼─────────────────────────────┼─────────────────┤\n",
              "│ block2_conv1 (\u001b[38;5;33mConv2D\u001b[0m)                │ (\u001b[38;5;45mNone\u001b[0m, \u001b[38;5;34m112\u001b[0m, \u001b[38;5;34m112\u001b[0m, \u001b[38;5;34m128\u001b[0m)       │          \u001b[38;5;34m73,856\u001b[0m │\n",
              "├──────────────────────────────────────┼─────────────────────────────┼─────────────────┤\n",
              "│ block2_conv2 (\u001b[38;5;33mConv2D\u001b[0m)                │ (\u001b[38;5;45mNone\u001b[0m, \u001b[38;5;34m112\u001b[0m, \u001b[38;5;34m112\u001b[0m, \u001b[38;5;34m128\u001b[0m)       │         \u001b[38;5;34m147,584\u001b[0m │\n",
              "├──────────────────────────────────────┼─────────────────────────────┼─────────────────┤\n",
              "│ block2_pool (\u001b[38;5;33mMaxPooling2D\u001b[0m)           │ (\u001b[38;5;45mNone\u001b[0m, \u001b[38;5;34m56\u001b[0m, \u001b[38;5;34m56\u001b[0m, \u001b[38;5;34m128\u001b[0m)         │               \u001b[38;5;34m0\u001b[0m │\n",
              "├──────────────────────────────────────┼─────────────────────────────┼─────────────────┤\n",
              "│ block3_conv1 (\u001b[38;5;33mConv2D\u001b[0m)                │ (\u001b[38;5;45mNone\u001b[0m, \u001b[38;5;34m56\u001b[0m, \u001b[38;5;34m56\u001b[0m, \u001b[38;5;34m256\u001b[0m)         │         \u001b[38;5;34m295,168\u001b[0m │\n",
              "├──────────────────────────────────────┼─────────────────────────────┼─────────────────┤\n",
              "│ block3_conv2 (\u001b[38;5;33mConv2D\u001b[0m)                │ (\u001b[38;5;45mNone\u001b[0m, \u001b[38;5;34m56\u001b[0m, \u001b[38;5;34m56\u001b[0m, \u001b[38;5;34m256\u001b[0m)         │         \u001b[38;5;34m590,080\u001b[0m │\n",
              "├──────────────────────────────────────┼─────────────────────────────┼─────────────────┤\n",
              "│ block3_conv3 (\u001b[38;5;33mConv2D\u001b[0m)                │ (\u001b[38;5;45mNone\u001b[0m, \u001b[38;5;34m56\u001b[0m, \u001b[38;5;34m56\u001b[0m, \u001b[38;5;34m256\u001b[0m)         │         \u001b[38;5;34m590,080\u001b[0m │\n",
              "├──────────────────────────────────────┼─────────────────────────────┼─────────────────┤\n",
              "│ block3_pool (\u001b[38;5;33mMaxPooling2D\u001b[0m)           │ (\u001b[38;5;45mNone\u001b[0m, \u001b[38;5;34m28\u001b[0m, \u001b[38;5;34m28\u001b[0m, \u001b[38;5;34m256\u001b[0m)         │               \u001b[38;5;34m0\u001b[0m │\n",
              "├──────────────────────────────────────┼─────────────────────────────┼─────────────────┤\n",
              "│ block4_conv1 (\u001b[38;5;33mConv2D\u001b[0m)                │ (\u001b[38;5;45mNone\u001b[0m, \u001b[38;5;34m28\u001b[0m, \u001b[38;5;34m28\u001b[0m, \u001b[38;5;34m512\u001b[0m)         │       \u001b[38;5;34m1,180,160\u001b[0m │\n",
              "├──────────────────────────────────────┼─────────────────────────────┼─────────────────┤\n",
              "│ block4_conv2 (\u001b[38;5;33mConv2D\u001b[0m)                │ (\u001b[38;5;45mNone\u001b[0m, \u001b[38;5;34m28\u001b[0m, \u001b[38;5;34m28\u001b[0m, \u001b[38;5;34m512\u001b[0m)         │       \u001b[38;5;34m2,359,808\u001b[0m │\n",
              "├──────────────────────────────────────┼─────────────────────────────┼─────────────────┤\n",
              "│ block4_conv3 (\u001b[38;5;33mConv2D\u001b[0m)                │ (\u001b[38;5;45mNone\u001b[0m, \u001b[38;5;34m28\u001b[0m, \u001b[38;5;34m28\u001b[0m, \u001b[38;5;34m512\u001b[0m)         │       \u001b[38;5;34m2,359,808\u001b[0m │\n",
              "├──────────────────────────────────────┼─────────────────────────────┼─────────────────┤\n",
              "│ block4_pool (\u001b[38;5;33mMaxPooling2D\u001b[0m)           │ (\u001b[38;5;45mNone\u001b[0m, \u001b[38;5;34m14\u001b[0m, \u001b[38;5;34m14\u001b[0m, \u001b[38;5;34m512\u001b[0m)         │               \u001b[38;5;34m0\u001b[0m │\n",
              "├──────────────────────────────────────┼─────────────────────────────┼─────────────────┤\n",
              "│ block5_conv1 (\u001b[38;5;33mConv2D\u001b[0m)                │ (\u001b[38;5;45mNone\u001b[0m, \u001b[38;5;34m14\u001b[0m, \u001b[38;5;34m14\u001b[0m, \u001b[38;5;34m512\u001b[0m)         │       \u001b[38;5;34m2,359,808\u001b[0m │\n",
              "├──────────────────────────────────────┼─────────────────────────────┼─────────────────┤\n",
              "│ block5_conv2 (\u001b[38;5;33mConv2D\u001b[0m)                │ (\u001b[38;5;45mNone\u001b[0m, \u001b[38;5;34m14\u001b[0m, \u001b[38;5;34m14\u001b[0m, \u001b[38;5;34m512\u001b[0m)         │       \u001b[38;5;34m2,359,808\u001b[0m │\n",
              "├──────────────────────────────────────┼─────────────────────────────┼─────────────────┤\n",
              "│ block5_conv3 (\u001b[38;5;33mConv2D\u001b[0m)                │ (\u001b[38;5;45mNone\u001b[0m, \u001b[38;5;34m14\u001b[0m, \u001b[38;5;34m14\u001b[0m, \u001b[38;5;34m512\u001b[0m)         │       \u001b[38;5;34m2,359,808\u001b[0m │\n",
              "├──────────────────────────────────────┼─────────────────────────────┼─────────────────┤\n",
              "│ block5_pool (\u001b[38;5;33mMaxPooling2D\u001b[0m)           │ (\u001b[38;5;45mNone\u001b[0m, \u001b[38;5;34m7\u001b[0m, \u001b[38;5;34m7\u001b[0m, \u001b[38;5;34m512\u001b[0m)           │               \u001b[38;5;34m0\u001b[0m │\n",
              "├──────────────────────────────────────┼─────────────────────────────┼─────────────────┤\n",
              "│ global_average_pooling2d             │ (\u001b[38;5;45mNone\u001b[0m, \u001b[38;5;34m512\u001b[0m)                 │               \u001b[38;5;34m0\u001b[0m │\n",
              "│ (\u001b[38;5;33mGlobalAveragePooling2D\u001b[0m)             │                             │                 │\n",
              "├──────────────────────────────────────┼─────────────────────────────┼─────────────────┤\n",
              "│ dense (\u001b[38;5;33mDense\u001b[0m)                        │ (\u001b[38;5;45mNone\u001b[0m, \u001b[38;5;34m1024\u001b[0m)                │         \u001b[38;5;34m525,312\u001b[0m │\n",
              "├──────────────────────────────────────┼─────────────────────────────┼─────────────────┤\n",
              "│ dense_1 (\u001b[38;5;33mDense\u001b[0m)                      │ (\u001b[38;5;45mNone\u001b[0m, \u001b[38;5;34m1024\u001b[0m)                │       \u001b[38;5;34m1,049,600\u001b[0m │\n",
              "├──────────────────────────────────────┼─────────────────────────────┼─────────────────┤\n",
              "│ dense_2 (\u001b[38;5;33mDense\u001b[0m)                      │ (\u001b[38;5;45mNone\u001b[0m, \u001b[38;5;34m512\u001b[0m)                 │         \u001b[38;5;34m524,800\u001b[0m │\n",
              "├──────────────────────────────────────┼─────────────────────────────┼─────────────────┤\n",
              "│ dense_3 (\u001b[38;5;33mDense\u001b[0m)                      │ (\u001b[38;5;45mNone\u001b[0m, \u001b[38;5;34m4\u001b[0m)                   │           \u001b[38;5;34m2,052\u001b[0m │\n",
              "└──────────────────────────────────────┴─────────────────────────────┴─────────────────┘\n"
            ],
            "text/html": [
              "<pre style=\"white-space:pre;overflow-x:auto;line-height:normal;font-family:Menlo,'DejaVu Sans Mono',consolas,'Courier New',monospace\">┏━━━━━━━━━━━━━━━━━━━━━━━━━━━━━━━━━━━━━━┳━━━━━━━━━━━━━━━━━━━━━━━━━━━━━┳━━━━━━━━━━━━━━━━━┓\n",
              "┃<span style=\"font-weight: bold\"> Layer (type)                         </span>┃<span style=\"font-weight: bold\"> Output Shape                </span>┃<span style=\"font-weight: bold\">         Param # </span>┃\n",
              "┡━━━━━━━━━━━━━━━━━━━━━━━━━━━━━━━━━━━━━━╇━━━━━━━━━━━━━━━━━━━━━━━━━━━━━╇━━━━━━━━━━━━━━━━━┩\n",
              "│ input_layer (<span style=\"color: #0087ff; text-decoration-color: #0087ff\">InputLayer</span>)             │ (<span style=\"color: #00d7ff; text-decoration-color: #00d7ff\">None</span>, <span style=\"color: #00af00; text-decoration-color: #00af00\">224</span>, <span style=\"color: #00af00; text-decoration-color: #00af00\">224</span>, <span style=\"color: #00af00; text-decoration-color: #00af00\">3</span>)         │               <span style=\"color: #00af00; text-decoration-color: #00af00\">0</span> │\n",
              "├──────────────────────────────────────┼─────────────────────────────┼─────────────────┤\n",
              "│ block1_conv1 (<span style=\"color: #0087ff; text-decoration-color: #0087ff\">Conv2D</span>)                │ (<span style=\"color: #00d7ff; text-decoration-color: #00d7ff\">None</span>, <span style=\"color: #00af00; text-decoration-color: #00af00\">224</span>, <span style=\"color: #00af00; text-decoration-color: #00af00\">224</span>, <span style=\"color: #00af00; text-decoration-color: #00af00\">64</span>)        │           <span style=\"color: #00af00; text-decoration-color: #00af00\">1,792</span> │\n",
              "├──────────────────────────────────────┼─────────────────────────────┼─────────────────┤\n",
              "│ block1_conv2 (<span style=\"color: #0087ff; text-decoration-color: #0087ff\">Conv2D</span>)                │ (<span style=\"color: #00d7ff; text-decoration-color: #00d7ff\">None</span>, <span style=\"color: #00af00; text-decoration-color: #00af00\">224</span>, <span style=\"color: #00af00; text-decoration-color: #00af00\">224</span>, <span style=\"color: #00af00; text-decoration-color: #00af00\">64</span>)        │          <span style=\"color: #00af00; text-decoration-color: #00af00\">36,928</span> │\n",
              "├──────────────────────────────────────┼─────────────────────────────┼─────────────────┤\n",
              "│ block1_pool (<span style=\"color: #0087ff; text-decoration-color: #0087ff\">MaxPooling2D</span>)           │ (<span style=\"color: #00d7ff; text-decoration-color: #00d7ff\">None</span>, <span style=\"color: #00af00; text-decoration-color: #00af00\">112</span>, <span style=\"color: #00af00; text-decoration-color: #00af00\">112</span>, <span style=\"color: #00af00; text-decoration-color: #00af00\">64</span>)        │               <span style=\"color: #00af00; text-decoration-color: #00af00\">0</span> │\n",
              "├──────────────────────────────────────┼─────────────────────────────┼─────────────────┤\n",
              "│ block2_conv1 (<span style=\"color: #0087ff; text-decoration-color: #0087ff\">Conv2D</span>)                │ (<span style=\"color: #00d7ff; text-decoration-color: #00d7ff\">None</span>, <span style=\"color: #00af00; text-decoration-color: #00af00\">112</span>, <span style=\"color: #00af00; text-decoration-color: #00af00\">112</span>, <span style=\"color: #00af00; text-decoration-color: #00af00\">128</span>)       │          <span style=\"color: #00af00; text-decoration-color: #00af00\">73,856</span> │\n",
              "├──────────────────────────────────────┼─────────────────────────────┼─────────────────┤\n",
              "│ block2_conv2 (<span style=\"color: #0087ff; text-decoration-color: #0087ff\">Conv2D</span>)                │ (<span style=\"color: #00d7ff; text-decoration-color: #00d7ff\">None</span>, <span style=\"color: #00af00; text-decoration-color: #00af00\">112</span>, <span style=\"color: #00af00; text-decoration-color: #00af00\">112</span>, <span style=\"color: #00af00; text-decoration-color: #00af00\">128</span>)       │         <span style=\"color: #00af00; text-decoration-color: #00af00\">147,584</span> │\n",
              "├──────────────────────────────────────┼─────────────────────────────┼─────────────────┤\n",
              "│ block2_pool (<span style=\"color: #0087ff; text-decoration-color: #0087ff\">MaxPooling2D</span>)           │ (<span style=\"color: #00d7ff; text-decoration-color: #00d7ff\">None</span>, <span style=\"color: #00af00; text-decoration-color: #00af00\">56</span>, <span style=\"color: #00af00; text-decoration-color: #00af00\">56</span>, <span style=\"color: #00af00; text-decoration-color: #00af00\">128</span>)         │               <span style=\"color: #00af00; text-decoration-color: #00af00\">0</span> │\n",
              "├──────────────────────────────────────┼─────────────────────────────┼─────────────────┤\n",
              "│ block3_conv1 (<span style=\"color: #0087ff; text-decoration-color: #0087ff\">Conv2D</span>)                │ (<span style=\"color: #00d7ff; text-decoration-color: #00d7ff\">None</span>, <span style=\"color: #00af00; text-decoration-color: #00af00\">56</span>, <span style=\"color: #00af00; text-decoration-color: #00af00\">56</span>, <span style=\"color: #00af00; text-decoration-color: #00af00\">256</span>)         │         <span style=\"color: #00af00; text-decoration-color: #00af00\">295,168</span> │\n",
              "├──────────────────────────────────────┼─────────────────────────────┼─────────────────┤\n",
              "│ block3_conv2 (<span style=\"color: #0087ff; text-decoration-color: #0087ff\">Conv2D</span>)                │ (<span style=\"color: #00d7ff; text-decoration-color: #00d7ff\">None</span>, <span style=\"color: #00af00; text-decoration-color: #00af00\">56</span>, <span style=\"color: #00af00; text-decoration-color: #00af00\">56</span>, <span style=\"color: #00af00; text-decoration-color: #00af00\">256</span>)         │         <span style=\"color: #00af00; text-decoration-color: #00af00\">590,080</span> │\n",
              "├──────────────────────────────────────┼─────────────────────────────┼─────────────────┤\n",
              "│ block3_conv3 (<span style=\"color: #0087ff; text-decoration-color: #0087ff\">Conv2D</span>)                │ (<span style=\"color: #00d7ff; text-decoration-color: #00d7ff\">None</span>, <span style=\"color: #00af00; text-decoration-color: #00af00\">56</span>, <span style=\"color: #00af00; text-decoration-color: #00af00\">56</span>, <span style=\"color: #00af00; text-decoration-color: #00af00\">256</span>)         │         <span style=\"color: #00af00; text-decoration-color: #00af00\">590,080</span> │\n",
              "├──────────────────────────────────────┼─────────────────────────────┼─────────────────┤\n",
              "│ block3_pool (<span style=\"color: #0087ff; text-decoration-color: #0087ff\">MaxPooling2D</span>)           │ (<span style=\"color: #00d7ff; text-decoration-color: #00d7ff\">None</span>, <span style=\"color: #00af00; text-decoration-color: #00af00\">28</span>, <span style=\"color: #00af00; text-decoration-color: #00af00\">28</span>, <span style=\"color: #00af00; text-decoration-color: #00af00\">256</span>)         │               <span style=\"color: #00af00; text-decoration-color: #00af00\">0</span> │\n",
              "├──────────────────────────────────────┼─────────────────────────────┼─────────────────┤\n",
              "│ block4_conv1 (<span style=\"color: #0087ff; text-decoration-color: #0087ff\">Conv2D</span>)                │ (<span style=\"color: #00d7ff; text-decoration-color: #00d7ff\">None</span>, <span style=\"color: #00af00; text-decoration-color: #00af00\">28</span>, <span style=\"color: #00af00; text-decoration-color: #00af00\">28</span>, <span style=\"color: #00af00; text-decoration-color: #00af00\">512</span>)         │       <span style=\"color: #00af00; text-decoration-color: #00af00\">1,180,160</span> │\n",
              "├──────────────────────────────────────┼─────────────────────────────┼─────────────────┤\n",
              "│ block4_conv2 (<span style=\"color: #0087ff; text-decoration-color: #0087ff\">Conv2D</span>)                │ (<span style=\"color: #00d7ff; text-decoration-color: #00d7ff\">None</span>, <span style=\"color: #00af00; text-decoration-color: #00af00\">28</span>, <span style=\"color: #00af00; text-decoration-color: #00af00\">28</span>, <span style=\"color: #00af00; text-decoration-color: #00af00\">512</span>)         │       <span style=\"color: #00af00; text-decoration-color: #00af00\">2,359,808</span> │\n",
              "├──────────────────────────────────────┼─────────────────────────────┼─────────────────┤\n",
              "│ block4_conv3 (<span style=\"color: #0087ff; text-decoration-color: #0087ff\">Conv2D</span>)                │ (<span style=\"color: #00d7ff; text-decoration-color: #00d7ff\">None</span>, <span style=\"color: #00af00; text-decoration-color: #00af00\">28</span>, <span style=\"color: #00af00; text-decoration-color: #00af00\">28</span>, <span style=\"color: #00af00; text-decoration-color: #00af00\">512</span>)         │       <span style=\"color: #00af00; text-decoration-color: #00af00\">2,359,808</span> │\n",
              "├──────────────────────────────────────┼─────────────────────────────┼─────────────────┤\n",
              "│ block4_pool (<span style=\"color: #0087ff; text-decoration-color: #0087ff\">MaxPooling2D</span>)           │ (<span style=\"color: #00d7ff; text-decoration-color: #00d7ff\">None</span>, <span style=\"color: #00af00; text-decoration-color: #00af00\">14</span>, <span style=\"color: #00af00; text-decoration-color: #00af00\">14</span>, <span style=\"color: #00af00; text-decoration-color: #00af00\">512</span>)         │               <span style=\"color: #00af00; text-decoration-color: #00af00\">0</span> │\n",
              "├──────────────────────────────────────┼─────────────────────────────┼─────────────────┤\n",
              "│ block5_conv1 (<span style=\"color: #0087ff; text-decoration-color: #0087ff\">Conv2D</span>)                │ (<span style=\"color: #00d7ff; text-decoration-color: #00d7ff\">None</span>, <span style=\"color: #00af00; text-decoration-color: #00af00\">14</span>, <span style=\"color: #00af00; text-decoration-color: #00af00\">14</span>, <span style=\"color: #00af00; text-decoration-color: #00af00\">512</span>)         │       <span style=\"color: #00af00; text-decoration-color: #00af00\">2,359,808</span> │\n",
              "├──────────────────────────────────────┼─────────────────────────────┼─────────────────┤\n",
              "│ block5_conv2 (<span style=\"color: #0087ff; text-decoration-color: #0087ff\">Conv2D</span>)                │ (<span style=\"color: #00d7ff; text-decoration-color: #00d7ff\">None</span>, <span style=\"color: #00af00; text-decoration-color: #00af00\">14</span>, <span style=\"color: #00af00; text-decoration-color: #00af00\">14</span>, <span style=\"color: #00af00; text-decoration-color: #00af00\">512</span>)         │       <span style=\"color: #00af00; text-decoration-color: #00af00\">2,359,808</span> │\n",
              "├──────────────────────────────────────┼─────────────────────────────┼─────────────────┤\n",
              "│ block5_conv3 (<span style=\"color: #0087ff; text-decoration-color: #0087ff\">Conv2D</span>)                │ (<span style=\"color: #00d7ff; text-decoration-color: #00d7ff\">None</span>, <span style=\"color: #00af00; text-decoration-color: #00af00\">14</span>, <span style=\"color: #00af00; text-decoration-color: #00af00\">14</span>, <span style=\"color: #00af00; text-decoration-color: #00af00\">512</span>)         │       <span style=\"color: #00af00; text-decoration-color: #00af00\">2,359,808</span> │\n",
              "├──────────────────────────────────────┼─────────────────────────────┼─────────────────┤\n",
              "│ block5_pool (<span style=\"color: #0087ff; text-decoration-color: #0087ff\">MaxPooling2D</span>)           │ (<span style=\"color: #00d7ff; text-decoration-color: #00d7ff\">None</span>, <span style=\"color: #00af00; text-decoration-color: #00af00\">7</span>, <span style=\"color: #00af00; text-decoration-color: #00af00\">7</span>, <span style=\"color: #00af00; text-decoration-color: #00af00\">512</span>)           │               <span style=\"color: #00af00; text-decoration-color: #00af00\">0</span> │\n",
              "├──────────────────────────────────────┼─────────────────────────────┼─────────────────┤\n",
              "│ global_average_pooling2d             │ (<span style=\"color: #00d7ff; text-decoration-color: #00d7ff\">None</span>, <span style=\"color: #00af00; text-decoration-color: #00af00\">512</span>)                 │               <span style=\"color: #00af00; text-decoration-color: #00af00\">0</span> │\n",
              "│ (<span style=\"color: #0087ff; text-decoration-color: #0087ff\">GlobalAveragePooling2D</span>)             │                             │                 │\n",
              "├──────────────────────────────────────┼─────────────────────────────┼─────────────────┤\n",
              "│ dense (<span style=\"color: #0087ff; text-decoration-color: #0087ff\">Dense</span>)                        │ (<span style=\"color: #00d7ff; text-decoration-color: #00d7ff\">None</span>, <span style=\"color: #00af00; text-decoration-color: #00af00\">1024</span>)                │         <span style=\"color: #00af00; text-decoration-color: #00af00\">525,312</span> │\n",
              "├──────────────────────────────────────┼─────────────────────────────┼─────────────────┤\n",
              "│ dense_1 (<span style=\"color: #0087ff; text-decoration-color: #0087ff\">Dense</span>)                      │ (<span style=\"color: #00d7ff; text-decoration-color: #00d7ff\">None</span>, <span style=\"color: #00af00; text-decoration-color: #00af00\">1024</span>)                │       <span style=\"color: #00af00; text-decoration-color: #00af00\">1,049,600</span> │\n",
              "├──────────────────────────────────────┼─────────────────────────────┼─────────────────┤\n",
              "│ dense_2 (<span style=\"color: #0087ff; text-decoration-color: #0087ff\">Dense</span>)                      │ (<span style=\"color: #00d7ff; text-decoration-color: #00d7ff\">None</span>, <span style=\"color: #00af00; text-decoration-color: #00af00\">512</span>)                 │         <span style=\"color: #00af00; text-decoration-color: #00af00\">524,800</span> │\n",
              "├──────────────────────────────────────┼─────────────────────────────┼─────────────────┤\n",
              "│ dense_3 (<span style=\"color: #0087ff; text-decoration-color: #0087ff\">Dense</span>)                      │ (<span style=\"color: #00d7ff; text-decoration-color: #00d7ff\">None</span>, <span style=\"color: #00af00; text-decoration-color: #00af00\">4</span>)                   │           <span style=\"color: #00af00; text-decoration-color: #00af00\">2,052</span> │\n",
              "└──────────────────────────────────────┴─────────────────────────────┴─────────────────┘\n",
              "</pre>\n"
            ]
          },
          "metadata": {}
        },
        {
          "output_type": "display_data",
          "data": {
            "text/plain": [
              "\u001b[1m Total params: \u001b[0m\u001b[38;5;34m16,816,452\u001b[0m (64.15 MB)\n"
            ],
            "text/html": [
              "<pre style=\"white-space:pre;overflow-x:auto;line-height:normal;font-family:Menlo,'DejaVu Sans Mono',consolas,'Courier New',monospace\"><span style=\"font-weight: bold\"> Total params: </span><span style=\"color: #00af00; text-decoration-color: #00af00\">16,816,452</span> (64.15 MB)\n",
              "</pre>\n"
            ]
          },
          "metadata": {}
        },
        {
          "output_type": "display_data",
          "data": {
            "text/plain": [
              "\u001b[1m Trainable params: \u001b[0m\u001b[38;5;34m2,101,764\u001b[0m (8.02 MB)\n"
            ],
            "text/html": [
              "<pre style=\"white-space:pre;overflow-x:auto;line-height:normal;font-family:Menlo,'DejaVu Sans Mono',consolas,'Courier New',monospace\"><span style=\"font-weight: bold\"> Trainable params: </span><span style=\"color: #00af00; text-decoration-color: #00af00\">2,101,764</span> (8.02 MB)\n",
              "</pre>\n"
            ]
          },
          "metadata": {}
        },
        {
          "output_type": "display_data",
          "data": {
            "text/plain": [
              "\u001b[1m Non-trainable params: \u001b[0m\u001b[38;5;34m14,714,688\u001b[0m (56.13 MB)\n"
            ],
            "text/html": [
              "<pre style=\"white-space:pre;overflow-x:auto;line-height:normal;font-family:Menlo,'DejaVu Sans Mono',consolas,'Courier New',monospace\"><span style=\"font-weight: bold\"> Non-trainable params: </span><span style=\"color: #00af00; text-decoration-color: #00af00\">14,714,688</span> (56.13 MB)\n",
              "</pre>\n"
            ]
          },
          "metadata": {}
        },
        {
          "output_type": "stream",
          "name": "stdout",
          "text": [
            "None\n"
          ]
        }
      ]
    },
    {
      "cell_type": "code",
      "source": [
        "from tensorflow.keras.models import Model"
      ],
      "metadata": {
        "id": "2uPE70Waj63H"
      },
      "execution_count": 17,
      "outputs": []
    },
    {
      "cell_type": "code",
      "source": [
        "model.compile(optimizer='adam', loss = 'categorical_crossentropy',metrics = ['accuracy'])"
      ],
      "metadata": {
        "id": "IOzZWwCFkBUS"
      },
      "execution_count": 18,
      "outputs": []
    },
    {
      "cell_type": "code",
      "source": [
        "training_history = model.fit(X_train,y_train,\n",
        "                    epochs=5,\n",
        "                    validation_data=(X_test,y_test),\n",
        "                    verbose = 1,\n",
        "                    initial_epoch=0)\n",
        ""
      ],
      "metadata": {
        "colab": {
          "base_uri": "https://localhost:8080/"
        },
        "id": "PcmIiLzkkEuQ",
        "outputId": "ffe58885-2488-4ac8-f77a-58670db56449"
      },
      "execution_count": 19,
      "outputs": [
        {
          "output_type": "stream",
          "name": "stdout",
          "text": [
            "Epoch 1/5\n",
            "\u001b[1m61/61\u001b[0m \u001b[32m━━━━━━━━━━━━━━━━━━━━\u001b[0m\u001b[37m\u001b[0m \u001b[1m1533s\u001b[0m 25s/step - accuracy: 0.5145 - loss: 2.6495 - val_accuracy: 0.8534 - val_loss: 0.4186\n",
            "Epoch 2/5\n",
            "\u001b[1m61/61\u001b[0m \u001b[32m━━━━━━━━━━━━━━━━━━━━\u001b[0m\u001b[37m\u001b[0m \u001b[1m1565s\u001b[0m 25s/step - accuracy: 0.8629 - loss: 0.3784 - val_accuracy: 0.8281 - val_loss: 0.4600\n",
            "Epoch 3/5\n",
            "\u001b[1m61/61\u001b[0m \u001b[32m━━━━━━━━━━━━━━━━━━━━\u001b[0m\u001b[37m\u001b[0m \u001b[1m1513s\u001b[0m 25s/step - accuracy: 0.9011 - loss: 0.2743 - val_accuracy: 0.8829 - val_loss: 0.3101\n",
            "Epoch 4/5\n",
            "\u001b[1m61/61\u001b[0m \u001b[32m━━━━━━━━━━━━━━━━━━━━\u001b[0m\u001b[37m\u001b[0m \u001b[1m1525s\u001b[0m 25s/step - accuracy: 0.9380 - loss: 0.1762 - val_accuracy: 0.8586 - val_loss: 0.4002\n",
            "Epoch 5/5\n",
            "\u001b[1m61/61\u001b[0m \u001b[32m━━━━━━━━━━━━━━━━━━━━\u001b[0m\u001b[37m\u001b[0m \u001b[1m1522s\u001b[0m 25s/step - accuracy: 0.9479 - loss: 0.1476 - val_accuracy: 0.8681 - val_loss: 0.3970\n"
          ]
        }
      ]
    },
    {
      "cell_type": "code",
      "source": [
        "import matplotlib.pyplot as plt\n",
        "%matplotlib inline\n",
        "acc = training_history.history['accuracy']\n",
        "val_acc = training_history.history['val_accuracy']\n",
        "loss = training_history.history['loss']\n",
        "val_loss = training_history.history['val_loss']\n",
        "\n",
        "epochs = range(len(acc))\n",
        "\n",
        "plt.plot(epochs, acc, 'r', label='Training accuracy')\n",
        "plt.plot(epochs, val_acc, 'b', label='Validation accuracy')\n",
        "plt.title('Training and validation accuracy')\n",
        "plt.legend(loc=0)\n",
        "plt.figure()\n",
        "\n",
        "plt.show()"
      ],
      "metadata": {
        "colab": {
          "base_uri": "https://localhost:8080/",
          "height": 469
        },
        "id": "Fi2-CoJSBwJA",
        "outputId": "2a611492-8ebf-413c-843d-3265eefbad22"
      },
      "execution_count": 20,
      "outputs": [
        {
          "output_type": "display_data",
          "data": {
            "text/plain": [
              "<Figure size 640x480 with 1 Axes>"
            ],
            "image/png": "[encoded data removed]"
          },
          "metadata": {}
        },
        {
          "output_type": "display_data",
          "data": {
            "text/plain": [
              "<Figure size 640x480 with 0 Axes>"
            ]
          },
          "metadata": {}
        }
      ]
    }
  ]
}